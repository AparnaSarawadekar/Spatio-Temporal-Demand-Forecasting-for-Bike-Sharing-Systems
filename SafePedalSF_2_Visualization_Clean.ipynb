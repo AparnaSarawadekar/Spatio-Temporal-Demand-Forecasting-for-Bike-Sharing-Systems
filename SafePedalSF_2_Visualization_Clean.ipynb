{
 "cells": [
  {
   "cell_type": "markdown",
   "metadata": {
    "id": "YHu_Kg3j2KFA"
   },
   "source": [
    "# **Spatial Visualization**"
   ]
  },
  {
   "cell_type": "markdown",
   "metadata": {
    "id": "WtHPyxeKUe6j"
   },
   "source": [
    "## Constants"
   ]
  },
  {
   "cell_type": "code",
   "execution_count": null,
   "metadata": {
    "id": "en1_XtzfVEQi"
   },
   "outputs": [],
   "source": [
    "# Google geocoding API\n",
    "GOOGLE_API_KEY = 'your-key-here'\n",
    "BASE_URL = \"https://maps.googleapis.com/maps/api/geocode/json\"\n",
    "\n",
    "# Assuming a reference point for grouping (e.g., centroid)\n",
    "REFERENCE_LATITUDE = 37.7749\n",
    "REFERENCE_LONGITUDE = -122.4194"
   ]
  },
  {
   "cell_type": "markdown",
   "metadata": {
    "id": "Voph9juKUVpc"
   },
   "source": [
    "## Utils"
   ]
  },
  {
   "cell_type": "markdown",
   "metadata": {
    "id": "DsjVMKZEWO4Y"
   },
   "source": [
    "### Calculate Haversine Distance\n",
    "\n",
    "The Haversine formula is used to calculate the great-circle distance between two points on the surface of a sphere, given their longitudes and latitudes. It's commonly used in navigation and geolocation applications. The formula is as follows:\n",
    "\n",
    "The result gives the distance between the two points along the surface of the sphere."
   ]
  },
  {
   "cell_type": "code",
   "execution_count": null,
   "metadata": {
    "id": "tQ2pXmQ8V6WO"
   },
   "outputs": [],
   "source": [
    "def haversine(lat1, lon1, lat2, lon2):\n",
    "    R = 6371.0  # Earth radius in kilometers\n",
    "\n",
    "    # Convert latitude and longitude from degrees to radians\n",
    "    lat1, lon1, lat2, lon2 = map(radians, [lat1, lon1, lat2, lon2])\n",
    "\n",
    "    # Haversine formula\n",
    "    dlat = lat2 - lat1\n",
    "    dlon = lon2 - lon1\n",
    "    a = sin(dlat / 2)**2 + cos(lat1) * cos(lat2) * sin(dlon / 2)**2\n",
    "    c = 2 * asin(sqrt(a))\n",
    "    distance = R * c\n",
    "\n",
    "    return distance"
   ]
  },
  {
   "cell_type": "markdown",
   "metadata": {
    "id": "MGIqh6KrW4zJ"
   },
   "source": [
    "### Get Latitude, Longitude from Address"
   ]
  },
  {
   "cell_type": "code",
   "execution_count": null,
   "metadata": {
    "id": "lg3t3yLlWqQN"
   },
   "outputs": [],
   "source": [
    "def get_lat_long_from_address(address):\n",
    "    params = {\n",
    "        \"address\": address,\n",
    "        \"key\": GOOGLE_API_KEY,\n",
    "    }\n",
    "\n",
    "    response = requests.get(BASE_URL, params=params)\n",
    "    data = response.json()\n",
    "\n",
    "    if data[\"status\"] == \"OK\":\n",
    "        # Extract latitude and longitude\n",
    "        location = data[\"results\"][0][\"geometry\"][\"location\"]\n",
    "        latitude = location[\"lat\"]\n",
    "        longitude = location[\"lng\"]\n",
    "        return latitude, longitude\n",
    "    else:\n",
    "        print(f\"Error: {data['status']}\")\n",
    "        return None"
   ]
  },
  {
   "cell_type": "markdown",
   "metadata": {
    "id": "ViDqE3_uXM_L"
   },
   "source": [
    "### Get Address from Latitude, Longitude"
   ]
  },
  {
   "cell_type": "code",
   "execution_count": null,
   "metadata": {
    "id": "mZSCRl7HXLi8"
   },
   "outputs": [],
   "source": [
    "def get_address_from_coords(lat, lon):\n",
    "    params = {\n",
    "        \"latlng\": f\"{lat},{lon}\",\n",
    "        \"key\": GOOGLE_API_KEY\n",
    "    }\n",
    "\n",
    "    response = requests.get(BASE_URL, params=params)\n",
    "    data = response.json()\n",
    "\n",
    "    if data[\"status\"] == \"OK\":\n",
    "        # Extract relevant address components\n",
    "        address_components = data[\"results\"][0][\"address_components\"]\n",
    "\n",
    "        # Extract street name and city, for example\n",
    "        street = next((comp[\"long_name\"] for comp in address_components if \"route\" in comp[\"types\"]), None)\n",
    "        city = next((comp[\"long_name\"] for comp in address_components if \"locality\" in comp[\"types\"]), None)\n",
    "\n",
    "        # Construct the shorter address\n",
    "        shorter_address = f\"{street}, {city}\" if street and city else f\"{lat},{lon}\"\n",
    "\n",
    "        return shorter_address\n",
    "    else:\n",
    "        return f\"{lat},{lon}\"\n"
   ]
  },
  {
   "cell_type": "markdown",
   "metadata": {
    "id": "dFlfGcdWThcF"
   },
   "source": [
    "## Plots"
   ]
  },
  {
   "cell_type": "markdown",
   "metadata": {
    "id": "bhUNmCWe0EcN"
   },
   "source": [
    "**Plotting a map using Folium to visualize the spread of crime hotspots in the form of a heat map across the regions having bike stations**\n",
    "\n",
    "\n",
    "This plot will help travellers to visualize and understand the spread of crime across various regions where bike stations are present so that they can decide whether they want to make use of bikes in those areas"
   ]
  },
  {
   "cell_type": "code",
   "execution_count": null,
   "metadata": {
    "id": "xP1TphJdOS06"
   },
   "outputs": [],
   "source": [
    "def plot_folium_map(stationdf,crimedf):\n",
    "\n",
    "  #Reference latitude and longitude are defined along with an estimated center of map\n",
    "  latitude_ref = stationdf.select(expr(\"percentile_approx(lat, 0.5)\").alias(\"latitude_ref\")).first()[\"latitude_ref\"]\n",
    "  longitude_ref = stationdf.select(expr(\"percentile_approx(long, 0.5)\").alias(\"longitude_ref\")).first()[\"longitude_ref\"]\n",
    "  map_center = [latitude_ref,longitude_ref]\n",
    "  heatmap = folium.Map(location=map_center, zoom_start=10)\n",
    "\n",
    "  # A layer for bike station data and another layer for crime data is added\n",
    "  stations_group = folium.FeatureGroup(\"Bike Stations\").add_to(heatmap)\n",
    "  crime_incidents_group = folium.FeatureGroup(\"Crime Incidents\").add_to(heatmap)\n",
    "\n",
    "  # Convert latitudes, longitudes, and counts to a list of points\n",
    "  # Latitude and longitude are converted to required point format format\n",
    "  stationdf = stationdf.withColumn(\"lat\", col(\"lat\").cast(\"double\"))\n",
    "  stationdf = stationdf.withColumn(\"long\", col(\"long\").cast(\"double\"))\n",
    "  stations_loc = [[float(row.lat), float(row.long)] for row in stationdf.collect()]\n",
    "\n",
    "  # Adding the heatmap\n",
    "  heatmap.add_child(HeatMap(stations_loc,radius=1))\n",
    "\n",
    "  # Convert Spark DataFrame to Pandas DataFrame\n",
    "  stations_pandas_df = stationdf.toPandas()\n",
    "  for index,row in stations_pandas_df.iterrows():\n",
    "      folium.Marker([float(row['lat']),float(row['long'])],popup=row['name'] + \"-\" + str(row['dock_count'])).add_to(stations_group)\n",
    "\n",
    "\n",
    "  # Add crime data to the map\n",
    "\n",
    "  # Collect Latitude and Longitude columns to Python lists\n",
    "  latitude_list = crimedf.select(\"Latitude\").rdd.flatMap(lambda x: x).collect()\n",
    "  longitude_list = crimedf.select(\"Longitude\").rdd.flatMap(lambda x: x).collect()\n",
    "\n",
    "  crimes_loc = list(zip(latitude_list, longitude_list))\n",
    "  crime_heatmap=plugins.HeatMap(crimes_loc,radius=5,blur=2)\n",
    "  crime_incidents_group.add_child(crime_heatmap)\n",
    "\n",
    "  folium.LayerControl().add_to(heatmap)\n",
    "\n",
    "  # Display the map\n",
    "  return heatmap"
   ]
  },
  {
   "cell_type": "code",
   "execution_count": null,
   "metadata": {
    "colab": {
     "background_save": true,
     "base_uri": "https://localhost:8080/",
     "height": 685
    },
    "id": "q_drVLWdOmNh",
    "outputId": "bf465994-cb8c-4b2d-aa89-e2db23cfd069"
   },
   "outputs": [],
   "source": [
    "plot_folium_map(stationdf,crimedf)"
   ]
  },
  {
   "cell_type": "code",
   "execution_count": null,
   "metadata": {
    "colab": {
     "base_uri": "https://localhost:8080/",
     "height": 542
    },
    "id": "Qk-KCz9NO3sc",
    "outputId": "fe432e70-aa36-42a0-e4fa-0235b6fa286e"
   },
   "outputs": [
    {
     "data": {
      "text/html": [
       "<html>\n",
       "<head><meta charset=\"utf-8\" /></head>\n",
       "<body>\n",
       "    <div>            <script src=\"https://cdnjs.cloudflare.com/ajax/libs/mathjax/2.7.5/MathJax.js?config=TeX-AMS-MML_SVG\"></script><script type=\"text/javascript\">if (window.MathJax && window.MathJax.Hub && window.MathJax.Hub.Config) {window.MathJax.Hub.Config({SVG: {font: \"STIX-Web\"}});}</script>                <script type=\"text/javascript\">window.PlotlyConfig = {MathJaxConfig: 'local'};</script>\n",
       "        <script charset=\"utf-8\" src=\"https://cdn.plot.ly/plotly-2.24.1.min.js\"></script>                <div id=\"a1dcb928-cfd9-464a-a62d-8fee0479be05\" class=\"plotly-graph-div\" style=\"height:525px; width:100%;\"></div>            <script type=\"text/javascript\">                                    window.PLOTLYENV=window.PLOTLYENV || {};                                    if (document.getElementById(\"a1dcb928-cfd9-464a-a62d-8fee0479be05\")) {                    Plotly.newPlot(                        \"a1dcb928-cfd9-464a-a62d-8fee0479be05\",                        [{\"customdata\":[[\"San Jose Diridon Caltrain Station\",27.0],[\"San Jose Civic Center\",15.0],[\"Santa Clara at Almaden\",11.0],[\"Adobe on Almaden\",19.0],[\"San Pedro Square\",15.0],[\"Paseo de San Antonio\",15.0],[\"San Salvador at 1st\",15.0],[\"Japantown\",15.0],[\"San Jose City Hall\",15.0],[\"MLK Library\",19.0],[\"SJSU 4th at San Carlos\",19.0],[\"St James Park\",15.0],[\"Arena Green \\u002f SAP Center\",19.0],[\"SJSU - San Salvador at 9th\",15.0],[\"Franklin at Maple\",15.0],[\"Redwood City Caltrain Station\",25.0],[\"San Mateo County Center\",15.0],[\"Redwood City Public Library\",15.0],[\"Stanford in Redwood City\",15.0],[\"Redwood City Medical Center\",15.0],[\"Mountain View City Hall\",15.0],[\"Mountain View Caltrain Station\",23.0],[\"San Antonio Caltrain Station\",23.0],[\"Evelyn Park and Ride\",15.0],[\"San Antonio Shopping Center\",15.0],[\"Castro Street and El Camino Real\",11.0],[\"Rengstorff Avenue \\u002f California Street\",15.0],[\"Palo Alto Caltrain Station\",23.0],[\"University and Emerson\",11.0],[\"California Ave Caltrain Station\",15.0],[\"Cowper at University\",11.0],[\"Park at Olive\",15.0],[\"Clay at Battery\",15.0],[\"Davis at Jackson\",15.0],[\"Commercial at Montgomery\",15.0],[\"Washington at Kearney\",15.0],[\"Post at Kearney\",19.0],[\"Embarcadero at Vallejo\",15.0],[\"Spear at Folsom\",19.0],[\"Harry Bridges Plaza (Ferry Building)\",23.0],[\"Embarcadero at Folsom\",19.0],[\"Powell Street BART\",19.0],[\"Embarcadero at Bryant\",15.0],[\"Temporary Transbay Terminal (Howard at Beale)\",23.0],[\"Beale at Market\",19.0],[\"5th at Howard\",15.0],[\"San Francisco City Hall\",19.0],[\"Golden Gate at Polk\",23.0],[\"Embarcadero at Sansome\",15.0],[\"2nd at Townsend\",27.0],[\"2nd at Folsom\",19.0],[\"Howard at 2nd\",19.0],[\"2nd at South Park\",15.0],[\"Townsend at 7th\",15.0],[\"South Van Ness at Market\",19.0],[\"Market at 10th\",27.0],[\"Yerba Buena Center of the Arts (3rd @ Howard)\",19.0],[\"San Francisco Caltrain 2 (330 Townsend)\",23.0],[\"San Francisco Caltrain (Townsend at 4th)\",19.0],[\"Powell at Post (Union Square)\",19.0],[\"Civic Center BART (7th at Market)\",23.0],[\"Grant Avenue at Columbus Avenue\",15.0],[\"Steuart at Market\",23.0],[\"Mechanics Plaza (Market at Battery)\",19.0],[\"Market at 4th\",19.0],[\"Market at Sansome\",27.0],[\"Santa Clara County Civic Center\",15.0],[\"Broadway St at Battery St\",15.0],[\"Mezes Park\",15.0],[\"Ryland Park\",15.0]],\"hovertemplate\":\"\\u003cb\\u003eName:\\u003c\\u002fb\\u003e %{customdata[0]}\\u003cbr\\u003e\\u003cb\\u003eDock count:\\u003c\\u002fb\\u003e %{customdata[1]}\",\"lat\":[37.329732,37.330698,37.333988,37.331415,37.336721000000004,37.333798,37.330165,37.348742,37.337391,37.335885,37.332808,37.339301,37.332692,37.333954999999996,37.481758,37.486078000000006,37.487615999999996,37.484219,37.48537,37.487682,37.389218,37.394358000000004,37.406940000000006,37.390277000000005,37.400443,37.385956,37.400240999999994,37.443988,37.444521,37.429082,37.448598,37.425683899999996,37.795001,37.79728,37.794230999999996,37.795425,37.788975,37.799953,37.790302000000004,37.795392,37.791464000000005,37.783871000000005,37.787152,37.789756,37.792251,37.781752000000004,37.77865,37.781332,37.80477,37.780526,37.785299,37.786978000000005,37.782259,37.771058000000004,37.774814,37.776619000000004,37.784878000000006,37.7766,37.776617,37.788446,37.781039,37.798522,37.794139,37.7913,37.786305,37.789625,37.352601,37.798541,37.491269,37.342725],\"legendgroup\":\"\",\"lon\":[-121.90178200000001,-121.888979,-121.894902,-121.8932,-121.894074,-121.88694299999999,-121.88583100000001,-121.89471499999999,-121.886995,-121.88566000000002,-121.88389099999999,-121.88993700000002,-121.900084,-121.877349,-122.226904,-122.23208899999999,-122.229951,-122.227424,-122.20328799999999,-122.223492,-122.081896,-122.07671299999998,-122.10675800000001,-122.066553,-122.10833799999999,-122.083678,-122.099076,-122.164759,-122.16309299999999,-122.14280500000001,-122.159504,-122.13777749999998,-122.39997,-122.398436,-122.402923,-122.40476699999999,-122.403452,-122.398525,-122.39063700000001,-122.394203,-122.391034,-122.408433,-122.38801299999999,-122.39464299999999,-122.39708600000002,-122.40512700000001,-122.41823500000001,-122.418603,-122.40323400000001,-122.39028799999998,-122.39623600000002,-122.39810800000001,-122.392738,-122.402717,-122.418954,-122.41738500000001,-122.40101399999999,-122.39546999999999,-122.39526000000001,-122.408499,-122.411748,-122.40724499999999,-122.394434,-122.399051,-122.40496599999999,-122.400811,-121.90573300000001,-122.40086200000002,-122.23623400000001,-121.89561699999999],\"marker\":{\"color\":[27.0,15.0,11.0,19.0,15.0,15.0,15.0,15.0,15.0,19.0,19.0,15.0,19.0,15.0,15.0,25.0,15.0,15.0,15.0,15.0,15.0,23.0,23.0,15.0,15.0,11.0,15.0,23.0,11.0,15.0,11.0,15.0,15.0,15.0,15.0,15.0,19.0,15.0,19.0,23.0,19.0,19.0,15.0,23.0,19.0,15.0,19.0,23.0,15.0,27.0,19.0,19.0,15.0,15.0,19.0,27.0,19.0,23.0,19.0,19.0,23.0,15.0,23.0,19.0,19.0,27.0,15.0,15.0,15.0,15.0],\"coloraxis\":\"coloraxis\",\"size\":[27.0,15.0,11.0,19.0,15.0,15.0,15.0,15.0,15.0,19.0,19.0,15.0,19.0,15.0,15.0,25.0,15.0,15.0,15.0,15.0,15.0,23.0,23.0,15.0,15.0,11.0,15.0,23.0,11.0,15.0,11.0,15.0,15.0,15.0,15.0,15.0,19.0,15.0,19.0,23.0,19.0,19.0,15.0,23.0,19.0,15.0,19.0,23.0,15.0,27.0,19.0,19.0,15.0,15.0,19.0,27.0,19.0,23.0,19.0,19.0,23.0,15.0,23.0,19.0,19.0,27.0,15.0,15.0,15.0,15.0],\"sizemode\":\"area\",\"sizeref\":0.0675},\"mode\":\"markers\",\"name\":\"\",\"showlegend\":false,\"subplot\":\"mapbox\",\"type\":\"scattermapbox\"}],                        {\"template\":{\"data\":{\"histogram2dcontour\":[{\"type\":\"histogram2dcontour\",\"colorbar\":{\"outlinewidth\":0,\"ticks\":\"\"},\"colorscale\":[[0.0,\"#0d0887\"],[0.1111111111111111,\"#46039f\"],[0.2222222222222222,\"#7201a8\"],[0.3333333333333333,\"#9c179e\"],[0.4444444444444444,\"#bd3786\"],[0.5555555555555556,\"#d8576b\"],[0.6666666666666666,\"#ed7953\"],[0.7777777777777778,\"#fb9f3a\"],[0.8888888888888888,\"#fdca26\"],[1.0,\"#f0f921\"]]}],\"choropleth\":[{\"type\":\"choropleth\",\"colorbar\":{\"outlinewidth\":0,\"ticks\":\"\"}}],\"histogram2d\":[{\"type\":\"histogram2d\",\"colorbar\":{\"outlinewidth\":0,\"ticks\":\"\"},\"colorscale\":[[0.0,\"#0d0887\"],[0.1111111111111111,\"#46039f\"],[0.2222222222222222,\"#7201a8\"],[0.3333333333333333,\"#9c179e\"],[0.4444444444444444,\"#bd3786\"],[0.5555555555555556,\"#d8576b\"],[0.6666666666666666,\"#ed7953\"],[0.7777777777777778,\"#fb9f3a\"],[0.8888888888888888,\"#fdca26\"],[1.0,\"#f0f921\"]]}],\"heatmap\":[{\"type\":\"heatmap\",\"colorbar\":{\"outlinewidth\":0,\"ticks\":\"\"},\"colorscale\":[[0.0,\"#0d0887\"],[0.1111111111111111,\"#46039f\"],[0.2222222222222222,\"#7201a8\"],[0.3333333333333333,\"#9c179e\"],[0.4444444444444444,\"#bd3786\"],[0.5555555555555556,\"#d8576b\"],[0.6666666666666666,\"#ed7953\"],[0.7777777777777778,\"#fb9f3a\"],[0.8888888888888888,\"#fdca26\"],[1.0,\"#f0f921\"]]}],\"heatmapgl\":[{\"type\":\"heatmapgl\",\"colorbar\":{\"outlinewidth\":0,\"ticks\":\"\"},\"colorscale\":[[0.0,\"#0d0887\"],[0.1111111111111111,\"#46039f\"],[0.2222222222222222,\"#7201a8\"],[0.3333333333333333,\"#9c179e\"],[0.4444444444444444,\"#bd3786\"],[0.5555555555555556,\"#d8576b\"],[0.6666666666666666,\"#ed7953\"],[0.7777777777777778,\"#fb9f3a\"],[0.8888888888888888,\"#fdca26\"],[1.0,\"#f0f921\"]]}],\"contourcarpet\":[{\"type\":\"contourcarpet\",\"colorbar\":{\"outlinewidth\":0,\"ticks\":\"\"}}],\"contour\":[{\"type\":\"contour\",\"colorbar\":{\"outlinewidth\":0,\"ticks\":\"\"},\"colorscale\":[[0.0,\"#0d0887\"],[0.1111111111111111,\"#46039f\"],[0.2222222222222222,\"#7201a8\"],[0.3333333333333333,\"#9c179e\"],[0.4444444444444444,\"#bd3786\"],[0.5555555555555556,\"#d8576b\"],[0.6666666666666666,\"#ed7953\"],[0.7777777777777778,\"#fb9f3a\"],[0.8888888888888888,\"#fdca26\"],[1.0,\"#f0f921\"]]}],\"surface\":[{\"type\":\"surface\",\"colorbar\":{\"outlinewidth\":0,\"ticks\":\"\"},\"colorscale\":[[0.0,\"#0d0887\"],[0.1111111111111111,\"#46039f\"],[0.2222222222222222,\"#7201a8\"],[0.3333333333333333,\"#9c179e\"],[0.4444444444444444,\"#bd3786\"],[0.5555555555555556,\"#d8576b\"],[0.6666666666666666,\"#ed7953\"],[0.7777777777777778,\"#fb9f3a\"],[0.8888888888888888,\"#fdca26\"],[1.0,\"#f0f921\"]]}],\"mesh3d\":[{\"type\":\"mesh3d\",\"colorbar\":{\"outlinewidth\":0,\"ticks\":\"\"}}],\"scatter\":[{\"fillpattern\":{\"fillmode\":\"overlay\",\"size\":10,\"solidity\":0.2},\"type\":\"scatter\"}],\"parcoords\":[{\"type\":\"parcoords\",\"line\":{\"colorbar\":{\"outlinewidth\":0,\"ticks\":\"\"}}}],\"scatterpolargl\":[{\"type\":\"scatterpolargl\",\"marker\":{\"colorbar\":{\"outlinewidth\":0,\"ticks\":\"\"}}}],\"bar\":[{\"error_x\":{\"color\":\"#2a3f5f\"},\"error_y\":{\"color\":\"#2a3f5f\"},\"marker\":{\"line\":{\"color\":\"#E5ECF6\",\"width\":0.5},\"pattern\":{\"fillmode\":\"overlay\",\"size\":10,\"solidity\":0.2}},\"type\":\"bar\"}],\"scattergeo\":[{\"type\":\"scattergeo\",\"marker\":{\"colorbar\":{\"outlinewidth\":0,\"ticks\":\"\"}}}],\"scatterpolar\":[{\"type\":\"scatterpolar\",\"marker\":{\"colorbar\":{\"outlinewidth\":0,\"ticks\":\"\"}}}],\"histogram\":[{\"marker\":{\"pattern\":{\"fillmode\":\"overlay\",\"size\":10,\"solidity\":0.2}},\"type\":\"histogram\"}],\"scattergl\":[{\"type\":\"scattergl\",\"marker\":{\"colorbar\":{\"outlinewidth\":0,\"ticks\":\"\"}}}],\"scatter3d\":[{\"type\":\"scatter3d\",\"line\":{\"colorbar\":{\"outlinewidth\":0,\"ticks\":\"\"}},\"marker\":{\"colorbar\":{\"outlinewidth\":0,\"ticks\":\"\"}}}],\"scattermapbox\":[{\"type\":\"scattermapbox\",\"marker\":{\"colorbar\":{\"outlinewidth\":0,\"ticks\":\"\"}}}],\"scatterternary\":[{\"type\":\"scatterternary\",\"marker\":{\"colorbar\":{\"outlinewidth\":0,\"ticks\":\"\"}}}],\"scattercarpet\":[{\"type\":\"scattercarpet\",\"marker\":{\"colorbar\":{\"outlinewidth\":0,\"ticks\":\"\"}}}],\"carpet\":[{\"aaxis\":{\"endlinecolor\":\"#2a3f5f\",\"gridcolor\":\"white\",\"linecolor\":\"white\",\"minorgridcolor\":\"white\",\"startlinecolor\":\"#2a3f5f\"},\"baxis\":{\"endlinecolor\":\"#2a3f5f\",\"gridcolor\":\"white\",\"linecolor\":\"white\",\"minorgridcolor\":\"white\",\"startlinecolor\":\"#2a3f5f\"},\"type\":\"carpet\"}],\"table\":[{\"cells\":{\"fill\":{\"color\":\"#EBF0F8\"},\"line\":{\"color\":\"white\"}},\"header\":{\"fill\":{\"color\":\"#C8D4E3\"},\"line\":{\"color\":\"white\"}},\"type\":\"table\"}],\"barpolar\":[{\"marker\":{\"line\":{\"color\":\"#E5ECF6\",\"width\":0.5},\"pattern\":{\"fillmode\":\"overlay\",\"size\":10,\"solidity\":0.2}},\"type\":\"barpolar\"}],\"pie\":[{\"automargin\":true,\"type\":\"pie\"}]},\"layout\":{\"autotypenumbers\":\"strict\",\"colorway\":[\"#636efa\",\"#EF553B\",\"#00cc96\",\"#ab63fa\",\"#FFA15A\",\"#19d3f3\",\"#FF6692\",\"#B6E880\",\"#FF97FF\",\"#FECB52\"],\"font\":{\"color\":\"#2a3f5f\"},\"hovermode\":\"closest\",\"hoverlabel\":{\"align\":\"left\"},\"paper_bgcolor\":\"white\",\"plot_bgcolor\":\"#E5ECF6\",\"polar\":{\"bgcolor\":\"#E5ECF6\",\"angularaxis\":{\"gridcolor\":\"white\",\"linecolor\":\"white\",\"ticks\":\"\"},\"radialaxis\":{\"gridcolor\":\"white\",\"linecolor\":\"white\",\"ticks\":\"\"}},\"ternary\":{\"bgcolor\":\"#E5ECF6\",\"aaxis\":{\"gridcolor\":\"white\",\"linecolor\":\"white\",\"ticks\":\"\"},\"baxis\":{\"gridcolor\":\"white\",\"linecolor\":\"white\",\"ticks\":\"\"},\"caxis\":{\"gridcolor\":\"white\",\"linecolor\":\"white\",\"ticks\":\"\"}},\"coloraxis\":{\"colorbar\":{\"outlinewidth\":0,\"ticks\":\"\"}},\"colorscale\":{\"sequential\":[[0.0,\"#0d0887\"],[0.1111111111111111,\"#46039f\"],[0.2222222222222222,\"#7201a8\"],[0.3333333333333333,\"#9c179e\"],[0.4444444444444444,\"#bd3786\"],[0.5555555555555556,\"#d8576b\"],[0.6666666666666666,\"#ed7953\"],[0.7777777777777778,\"#fb9f3a\"],[0.8888888888888888,\"#fdca26\"],[1.0,\"#f0f921\"]],\"sequentialminus\":[[0.0,\"#0d0887\"],[0.1111111111111111,\"#46039f\"],[0.2222222222222222,\"#7201a8\"],[0.3333333333333333,\"#9c179e\"],[0.4444444444444444,\"#bd3786\"],[0.5555555555555556,\"#d8576b\"],[0.6666666666666666,\"#ed7953\"],[0.7777777777777778,\"#fb9f3a\"],[0.8888888888888888,\"#fdca26\"],[1.0,\"#f0f921\"]],\"diverging\":[[0,\"#8e0152\"],[0.1,\"#c51b7d\"],[0.2,\"#de77ae\"],[0.3,\"#f1b6da\"],[0.4,\"#fde0ef\"],[0.5,\"#f7f7f7\"],[0.6,\"#e6f5d0\"],[0.7,\"#b8e186\"],[0.8,\"#7fbc41\"],[0.9,\"#4d9221\"],[1,\"#276419\"]]},\"xaxis\":{\"gridcolor\":\"white\",\"linecolor\":\"white\",\"ticks\":\"\",\"title\":{\"standoff\":15},\"zerolinecolor\":\"white\",\"automargin\":true,\"zerolinewidth\":2},\"yaxis\":{\"gridcolor\":\"white\",\"linecolor\":\"white\",\"ticks\":\"\",\"title\":{\"standoff\":15},\"zerolinecolor\":\"white\",\"automargin\":true,\"zerolinewidth\":2},\"scene\":{\"xaxis\":{\"backgroundcolor\":\"#E5ECF6\",\"gridcolor\":\"white\",\"linecolor\":\"white\",\"showbackground\":true,\"ticks\":\"\",\"zerolinecolor\":\"white\",\"gridwidth\":2},\"yaxis\":{\"backgroundcolor\":\"#E5ECF6\",\"gridcolor\":\"white\",\"linecolor\":\"white\",\"showbackground\":true,\"ticks\":\"\",\"zerolinecolor\":\"white\",\"gridwidth\":2},\"zaxis\":{\"backgroundcolor\":\"#E5ECF6\",\"gridcolor\":\"white\",\"linecolor\":\"white\",\"showbackground\":true,\"ticks\":\"\",\"zerolinecolor\":\"white\",\"gridwidth\":2}},\"shapedefaults\":{\"line\":{\"color\":\"#2a3f5f\"}},\"annotationdefaults\":{\"arrowcolor\":\"#2a3f5f\",\"arrowhead\":0,\"arrowwidth\":1},\"geo\":{\"bgcolor\":\"white\",\"landcolor\":\"#E5ECF6\",\"subunitcolor\":\"white\",\"showland\":true,\"showlakes\":true,\"lakecolor\":\"white\"},\"title\":{\"x\":0.05},\"mapbox\":{\"style\":\"light\"}}},\"mapbox\":{\"domain\":{\"x\":[0.0,1.0],\"y\":[0.0,1.0]},\"center\":{\"lat\":37.59024338428571,\"lon\":-122.21841616428571},\"zoom\":10,\"style\":\"open-street-map\"},\"coloraxis\":{\"colorbar\":{\"title\":{\"text\":\"dock_count\"}},\"colorscale\":[[0.0,\"#0d0887\"],[0.1111111111111111,\"#46039f\"],[0.2222222222222222,\"#7201a8\"],[0.3333333333333333,\"#9c179e\"],[0.4444444444444444,\"#bd3786\"],[0.5555555555555556,\"#d8576b\"],[0.6666666666666666,\"#ed7953\"],[0.7777777777777778,\"#fb9f3a\"],[0.8888888888888888,\"#fdca26\"],[1.0,\"#f0f921\"]]},\"legend\":{\"tracegroupgap\":0,\"itemsizing\":\"constant\"},\"margin\":{\"t\":60}},                        {\"responsive\": true}                    ).then(function(){\n",
       "                            \n",
       "var gd = document.getElementById('a1dcb928-cfd9-464a-a62d-8fee0479be05');\n",
       "var x = new MutationObserver(function (mutations, observer) {{\n",
       "        var display = window.getComputedStyle(gd).display;\n",
       "        if (!display || display === 'none') {{\n",
       "            console.log([gd, 'removed!']);\n",
       "            Plotly.purge(gd);\n",
       "            observer.disconnect();\n",
       "        }}\n",
       "}});\n",
       "\n",
       "// Listen for the removal of the full notebook cells\n",
       "var notebookContainer = gd.closest('#notebook-container');\n",
       "if (notebookContainer) {{\n",
       "    x.observe(notebookContainer, {childList: true});\n",
       "}}\n",
       "\n",
       "// Listen for the clearing of the current output cell\n",
       "var outputEl = gd.closest('.output');\n",
       "if (outputEl) {{\n",
       "    x.observe(outputEl, {childList: true});\n",
       "}}\n",
       "\n",
       "                        })                };                            </script>        </div>\n",
       "</body>\n",
       "</html>"
      ]
     },
     "metadata": {},
     "output_type": "display_data"
    }
   ],
   "source": [
    "# converting to pandas dataframe - as plotly only works with pandas dataframes\n",
    "stations_pandas_df = stationdf.toPandas()\n",
    "\n",
    "stations_pandas_df['lat'] = stations_pandas_df['lat'].astype(float)\n",
    "stations_pandas_df['long'] = stations_pandas_df['long'].astype(float)\n",
    "stations_pandas_df['dock_count'] = stations_pandas_df['dock_count'].astype(float)\n",
    "\n",
    "# Create layout\n",
    "layout = dict(\n",
    "    mapbox=dict(\n",
    "        style=\"open-street-map\",\n",
    "        center=dict(lat=stations_pandas_df['lat'].mean(), lon=stations_pandas_df['long'].mean()),\n",
    "        zoom=10\n",
    "    )\n",
    ")\n",
    "\n",
    "# Create figure and add traces to it\n",
    "fig = px.scatter_mapbox(stations_pandas_df, lat=\"lat\", lon=\"long\",color=\"dock_count\", size=\"dock_count\", zoom=10, custom_data=[\"name\",\"dock_count\"])  # An empty plot to which we'll add traces\n",
    "\n",
    "fig.update_traces(\n",
    "    hovertemplate=\"<b>Name:</b> %{customdata[0]}<br><b>Dock count:</b> %{customdata[1]}\"\n",
    ")\n",
    "\n",
    "# Update layout\n",
    "fig.update_layout(layout)\n",
    "\n",
    "# Show the plot\n",
    "fig.show()"
   ]
  },
  {
   "cell_type": "code",
   "execution_count": null,
   "metadata": {
    "id": "uw4ljIUCQ2C-"
   },
   "outputs": [],
   "source": [
    "# group crime dataframe rows based on their location by grouping nearest latitude and longitudes\n",
    "\n",
    "# Add a new column with Haversine distance from the reference point\n",
    "crimedf = crimedf.withColumn(\n",
    "    \"distance_from_reference\",\n",
    "    haversine(col(\"Latitude\"), col(\"Longitude\"), lit(REFERENCE_LATITUDE), lit(REFERENCE_LONGITUDE))\n",
    ")\n",
    "\n",
    "# Define a window specification for ranking by distance\n",
    "window_spec = Window.orderBy(\"distance_from_reference\")\n",
    "\n",
    "# Add a rank column based on distance\n",
    "crimedf = crimedf.withColumn(\"rank\", rank().over(window_spec))\n",
    "\n",
    "# Group by latitude and longitude and count the number of rows\n",
    "result_df = crimedf.groupBy(\"Latitude\", \"Longitude\").count()\n",
    "\n",
    "# the resultant dataframe will have Latitude, Longitude and count\n",
    "# now, since the data is reduced, we can convert to pandas and visualize crime data"
   ]
  },
  {
   "cell_type": "code",
   "execution_count": null,
   "metadata": {
    "colab": {
     "background_save": true
    },
    "id": "4VSVO_X1R2zd",
    "outputId": "7112da73-a83b-4cea-df5b-eb97382eb2d9"
   },
   "outputs": [
    {
     "data": {
      "text/plain": [
       "['Latitude', 'Longitude', 'count']"
      ]
     },
     "execution_count": 26,
     "metadata": {},
     "output_type": "execute_result"
    }
   ],
   "source": [
    "result_df.columns"
   ]
  },
  {
   "cell_type": "code",
   "execution_count": null,
   "metadata": {
    "id": "AW4mtbBASSxi"
   },
   "outputs": [],
   "source": [
    "# visualize the crime count statistics with plotly\n",
    "\n",
    "\n",
    "crime_pandas_df = result_df.toPandas()\n",
    "\n",
    "crime_pandas_df['Latitude'] = crime_pandas_df['Latitude'].astype(float)\n",
    "crime_pandas_df['Longitude'] = crime_pandas_df['Longitude'].astype(float)\n",
    "\n",
    "# Create layout\n",
    "layout = dict(\n",
    "    mapbox=dict(\n",
    "        style=\"open-street-map\",\n",
    "        center=dict(lat=crime_pandas_df['Latitude'].mean(), lon=crime_pandas_df['Longitude'].mean()),\n",
    "        zoom=10,\n",
    "    )\n",
    ")\n",
    "\n",
    "\n",
    "# Create figure and add traces to it\n",
    "fig = px.scatter_mapbox(crime_pandas_df, lat=\"Latitude\", lon=\"Longitude\",color=\"count\", size=\"count\", zoom=10)  # An empty plot to which we'll add traces\n",
    "\n",
    "# fig.update_traces(\n",
    "#     hovertemplate= \"<b>Address:</b> %{customdata[0]}<br>}\"\n",
    "# )\n",
    "\n",
    "# Update layout\n",
    "fig.update_layout(layout)\n",
    "\n",
    "# Show the plot\n",
    "fig.show()"
   ]
  },
  {
   "cell_type": "code",
   "execution_count": null,
   "metadata": {
    "id": "r7FJQvX1jjNR"
   },
   "outputs": [],
   "source": [
    "# Given location\n",
    "address = \"3131 Watkins Drive Riverside CA\"\n",
    "latitude, longitude = get_lat_long_from_address(address)\n",
    "\n",
    "given_latitude = latitude\n",
    "given_longitude = longitude\n",
    "radius_in_miles = 0.5\n",
    "\n",
    "stationdf_with_distance = stationdf.withColumn(\n",
    "    \"distance\",\n",
    "    haversine(col(\"lat\"), col(\"long\"), lit(REFERENCE_LATITUDE), lit(REFERENCE_LONGITUDE))\n",
    ")\n",
    "crimedf_with_distance = crimedf.withColumn(\n",
    "    \"distance\",\n",
    "    haversine(col(\"Latitude\"), col(\"Longitude\"), lit(REFERENCE_LATITUDE), lit(REFERENCE_LONGITUDE))\n",
    ")\n",
    "\n",
    "# Filter stations within the given radius\n",
    "station_result = stationdf_with_distance.filter(\"distance <= {}\".format(radius_in_miles)).drop(\"distance\")\n",
    "crime_result = crimedf_with_distance.filter(\"distance <= {}\".format(radius_in_miles)).drop(\"distance\")\n",
    "\n",
    "# Show the result\n",
    "station_result.show()\n",
    "crime_result.show()"
   ]
  },
  {
   "cell_type": "code",
   "execution_count": null,
   "metadata": {
    "id": "ZbVWQW4jS6A3"
   },
   "outputs": [],
   "source": [
    "plot_folium_map(station_result,crime_result)"
   ]
  },
  {
   "cell_type": "code",
   "execution_count": null,
   "metadata": {
    "id": "rCiCZkjPoIE4"
   },
   "outputs": [],
   "source": [
    "# Calculate Address for each crime coordinates for visualizing\n",
    "\n",
    "# Add spark user defined function\n",
    "get_address_from_coords_udf = udf(get_address_from_coords, StringType())\n",
    "\n",
    "# Add a new column with the address information using the UDF\n",
    "result_df = result_df.withColumn(\"address\", get_address_from_coords_udf(result_df[\"Latitude\"], result_df[\"Longitude\"]))"
   ]
  },
  {
   "cell_type": "code",
   "execution_count": null,
   "metadata": {
    "id": "p78ERKBLkTSQ"
   },
   "outputs": [],
   "source": [
    "station_result_pandas = station_result.toPandas()\n",
    "station_result_pandas[\"lat\"] = pd.to_numeric(station_result_pandas[\"lat\"], errors='coerce')\n",
    "station_result_pandas[\"long\"] = pd.to_numeric(station_result_pandas[\"long\"], errors='coerce')\n",
    "\n",
    "crime_result_pandas = crime_result.toPandas()\n",
    "\n",
    "# Create scatter mapbox for the first dataset\n",
    "fig = px.scatter_mapbox(\n",
    "    station_result_pandas,\n",
    "    lat=\"lat\",\n",
    "    lon=\"long\",\n",
    "    color=\"dock_count\",  # 'dataset1' is a column to distinguish points from the first dataset\n",
    "    color_continuous_scale=\"Viridis\",  # Choose a color scale\n",
    "    zoom=10,\n",
    "    mapbox_style=\"carto-positron\",\n",
    "    title=\"Scatter Mapbox with Two Datasets\",\n",
    ")\n",
    "\n",
    "# Add scatter mapbox for the second dataset\n",
    "fig.add_scattermapbox(\n",
    "    lat=crime_result_pandas[\"Latitude\"],\n",
    "    lon=crime_result_pandas[\"Longitude\"],\n",
    "    mode=\"markers\",\n",
    "    marker=dict(\n",
    "        size=10,\n",
    "        color=\"red\",  # Choose a color for the second dataset\n",
    "    ),\n",
    "    name=\"Crime Data\",  # Legend label for the second dataset\n",
    ")\n",
    "\n",
    "# Update layout and show the figure\n",
    "fig.update_layout(\n",
    "    # legend=dict(title=dict(text=\"Dataset\")),\n",
    "    mapbox=dict(center=dict(lat=station_result_pandas[\"lat\"].mean(), lon=station_result_pandas[\"long\"].mean())),\n",
    "    legend_traceorder=\"reversed\",  # Reverse the order of the legend items\n",
    "    legend_y=1.05,  # Adjust the y position of the legend\n",
    ")\n",
    "fig.show()"
   ]
  },
  {
   "cell_type": "markdown",
   "metadata": {
    "id": "eeC38AoO2u9T"
   },
   "source": [
    "#Data Visualization And Graphs"
   ]
  },
  {
   "cell_type": "code",
   "execution_count": null,
   "metadata": {
    "id": "lbWvwolu2zbw"
   },
   "outputs": [],
   "source": [
    "spark2 = SparkSession.builder.appName(\"pyspark-geopandas\").getOrCreate()\n",
    "sc = spark2.sparkContext\n",
    "\n",
    "def wrangle(df):\n",
    "\n",
    "    # Create a Spark session\n",
    "    spark = SparkSession.builder.appName(\"ExampleAppName\").getOrCreate()\n",
    "\n",
    "    # Read CSV file into a Spark DataFrame\n",
    "    df = spark.read.csv(filepath, header=True, inferSchema=True)\n",
    "    df = df.dropna()\n",
    "    date_time_cols = split(df['Incident Date'], ' ')\n",
    "    df = df.withColumn('date', date_time_cols.getItem(0)).withColumn('time', date_time_cols.getItem(1))\n",
    "    time_cols = split(df['time'], ':')\n",
    "    date_cols = split(df['date'], '/')\n",
    "    df = df.withColumn('hour', time_cols.getItem(0).cast(IntegerType())).withColumn('minute', time_cols.getItem(1).cast(IntegerType())).withColumn('month', date_cols.getItem(0).cast(IntegerType())).withColumn('day', date_cols.getItem(1).cast(IntegerType())).withColumn('year', date_cols.getItem(2).cast(IntegerType()))\n",
    "    return df\n",
    "\n",
    "crimedf = wrangle('crime_report.csv')"
   ]
  },
  {
   "cell_type": "code",
   "execution_count": null,
   "metadata": {
    "id": "-HhpF_Sn3XJv"
   },
   "outputs": [],
   "source": [
    "crimedf = spark.read.csv('crime_report.csv',header=True)"
   ]
  },
  {
   "cell_type": "code",
   "execution_count": null,
   "metadata": {
    "id": "vqK7LZUB28wz"
   },
   "outputs": [],
   "source": [
    "df = pd.read_csv('crime_report.csv')\n",
    "days = list(df['Incident Day of Week'])\n",
    "#days = list(crimemod['Incident Day of Week'])\n",
    "#items = Counter(days)\n",
    "print(items)"
   ]
  },
  {
   "cell_type": "code",
   "execution_count": null,
   "metadata": {
    "id": "B0EmcXvm4Jjm"
   },
   "outputs": [],
   "source": [
    "# Extract weekdays and their counts\n",
    "weekdays = list(items.keys())\n",
    "counts = list(items.values())\n",
    "\n",
    "# Plotting the bar graph\n",
    "plt.bar(weekdays, counts, color='skyblue')\n",
    "plt.xlabel('Weekdays')\n",
    "plt.ylabel('Number of Crimes')\n",
    "plt.title('Number of Crimes on a particular weekday')\n",
    "plt.show()"
   ]
  },
  {
   "cell_type": "code",
   "execution_count": null,
   "metadata": {
    "id": "hEuFFHER4SKq"
   },
   "outputs": [],
   "source": [
    "#spark2 = SparkSession.builder.appName(\"pyspark-geopandas\").getOrCreate()\n",
    "#sc = spark2.sparkContext"
   ]
  },
  {
   "cell_type": "code",
   "execution_count": null,
   "metadata": {
    "id": "63bpqni54TDj"
   },
   "outputs": [],
   "source": [
    "# Assuming stationdf is a Pandas DataFrame\n",
    "# You need to create a Spark DataFrame from the Pandas DataFrame\n",
    "#spark = SparkSession.builder.appName(\"ExampleAppName\").getOrCreate()\n",
    "\n",
    "# Convert Spark DataFrame to RDD to parallelize the process\n",
    "rdd_station = stationdf.rdd\n",
    "\n",
    "# Use map transformation to create a new RDD with the desired structure\n",
    "# Each element in the new RDD will be a tuple (name, [lat, long])\n",
    "rdd_locations = rdd_station.map(lambda row: (row[\"name\"], [row[\"lat\"], row[\"long\"]]))\n",
    "\n",
    "# Collect the results into a dictionary\n",
    "dict_locations = dict(rdd_locations.collect())\n",
    "\n",
    "# Show the result\n",
    "print(dict_locations)"
   ]
  },
  {
   "cell_type": "code",
   "execution_count": null,
   "metadata": {
    "id": "R8o5R98o4V_O"
   },
   "outputs": [],
   "source": [
    "def wrangle(filepath):\n",
    "#def wrangle(df):\n",
    "    # Create a Spark session\n",
    "#    spark = SparkSession.builder.appName(\"ExampleAppName\").getOrCreate()\n",
    "\n",
    "    # Read CSV file into a Spark DataFrame\n",
    "    df = spark.read.csv(filepath, header=True, inferSchema=True)\n",
    "    df = df.dropna()\n",
    "    df = df.withColumn('duration', round(col('duration') / 60, 2))\n",
    "    #df = df.withColumn('end_date', to_timestamp(col('end_date'), 'MM/dd/yyyy HH:mm'))\n",
    "    date_time_cols = split(df['end_date'], ' ')\n",
    "    df = df.withColumn('date', date_time_cols.getItem(0)).withColumn('time', date_time_cols.getItem(1))\n",
    "    time_cols = split(df['time'], ':')\n",
    "    date_cols = split(df['date'], '/')\n",
    "    df = df.withColumn('hour', time_cols.getItem(0).cast(IntegerType())).withColumn('minute', time_cols.getItem(1).cast(IntegerType())).withColumn('month', date_cols.getItem(0).cast(IntegerType())).withColumn('day', date_cols.getItem(1).cast(IntegerType())).withColumn('year', date_cols.getItem(2).cast(IntegerType()))\n",
    "    return df\n",
    "\n",
    "tripmod = wrangle('/content/trip.csv')"
   ]
  },
  {
   "cell_type": "code",
   "execution_count": null,
   "metadata": {
    "id": "vPo84axd4aFz"
   },
   "outputs": [],
   "source": [
    "tripdf.groupBy(\"hour\",\"day\").count().show()\n",
    "#tripmod.groupBy(\"hour\",\"day\").count().show()"
   ]
  },
  {
   "cell_type": "code",
   "execution_count": null,
   "metadata": {
    "id": "xKHQVju34dku"
   },
   "outputs": [],
   "source": [
    "def wrangle(filepath):\n",
    "#def wrangle(df):\n",
    "    # Read CSV file\n",
    "    df = pd.read_csv('trip.csv')\n",
    "\n",
    "    # Removing null values\n",
    "    df.dropna(inplace=True)\n",
    "    print(df.head())\n",
    "    print(len([df.columns]))\n",
    "    # Convert duration seconds to minutes\n",
    "    df['duration'] = (df['duration'] / 60).round(2)\n",
    "\n",
    "    # Extract the month from the date\n",
    "    df['end_date'] = pd.to_datetime(df['end_date'], format='%m/%d/%Y %H:%M')\n",
    "    df['month'] = df['end_date'].dt.month\n",
    "\n",
    "    # Extract the day of the week (Monday = 0, Sunday = 6)\n",
    "    df['start_date'] = pd.to_datetime(df['start_date'], format='%m/%d/%Y %H:%M')\n",
    "    df['day_of_week'] = df['start_date'].dt.weekday\n",
    "\n",
    "    # Extract the hour divided in 24h\n",
    "    df['start_date'] = pd.to_datetime(df['start_date'], format='%m/%d/%Y %H:%M')\n",
    "    df['hour_of_day'] = df['start_date'].dt.hour\n",
    "\n",
    "\n",
    "    for index, row in df.iterrows():\n",
    "        station = row['start_station_name']\n",
    "        if station in dict_locations:\n",
    "            df.at[index, 'latitude'] = dict_locations[station][0]\n",
    "            df.at[index, 'longitude'] = dict_locations[station][1]\n",
    "\n",
    "\n",
    "    # Reset the index of the DataFrame\n",
    "    df = df.reset_index()\n",
    "\n",
    "   # Group by 'day_of_week' and 'hour_of_day', then count the number of trips\n",
    "    trips_per_hour = df.groupby([df['start_date'].dt.dayofweek, df['start_date'].dt.hour])['id'].transform('count')\n",
    "\n",
    "    # Create a new column 'trips_per_hour' in the DataFrame\n",
    "    df['trips_per_hour'] = trips_per_hour\n",
    "\n",
    "     # Group by 'day_of_week' and 'hour_of_day', then count the number of trips\n",
    "    trips_per_day = df.groupby([df['start_date'].dt.dayofweek, df['start_date'].dt.day])['id'].transform('count')\n",
    "\n",
    "    # Create a new column 'trips_per_hour' in the DataFrame\n",
    "    df['trips_per_day'] = trips_per_day\n",
    "\n",
    "\n",
    "    return df\n",
    "\n",
    "tripdf = wrangle('trip.csv')\n",
    "#tripmod = wrangle(tripdf)"
   ]
  },
  {
   "cell_type": "code",
   "execution_count": null,
   "metadata": {
    "id": "bQGfiskP4mqb"
   },
   "outputs": [],
   "source": [
    "tripdf_plot1=tripdf.groupby(\"month\").count()\n",
    "tripdf_plot1=tripdf_plot1.sort_values(\"month\")\n",
    "#tripdf_plot1=tripmod.groupby(\"month\").count()\n",
    "#tripdf_plot1=tripmod.sort_values(\"month\")"
   ]
  },
  {
   "cell_type": "code",
   "execution_count": null,
   "metadata": {
    "id": "DJ4wUxHe4puE"
   },
   "outputs": [],
   "source": [
    "tripdf_plot1=tripdf.groupby(\"month\").count()\n",
    "tripdf_plot1=tripdf_plot1.sort_values(\"month\")\n",
    "\n",
    "by_hour_avg_trips = tripdf.groupby('hour_of_day').start_date.count()\n",
    "\n",
    "Hours = ['0', '1', '2', '3', '4', '5', '6', '7', '8', '9', '10', '11', '12', '13', '14', '15', '16', '17', '18', '19', '20', '21', '22', '23']\n",
    "\n",
    "normalized_hours_trips = (by_hour_avg_trips - by_hour_avg_trips.min()) / (by_hour_avg_trips.max() - by_hour_avg_trips.min())\n",
    "\n",
    "colors = plt.cm.Oranges(normalized_hours_trips)\n",
    "\n",
    "plt.barh(Hours, by_hour_avg_trips, color=colors)\n",
    "plt.xlabel('Number of Trips')\n",
    "plt.ylabel('Hours')\n",
    "plt.title('Number of trips per hours')\n",
    "plt.xticks(rotation='vertical')\n",
    "plt.show()"
   ]
  },
  {
   "cell_type": "code",
   "execution_count": null,
   "metadata": {
    "id": "qXbMMEuj5WQR"
   },
   "outputs": [],
   "source": [
    "dark_colors = [\"#99D699\", \"#B2B2B2\",\n",
    "                (0.8509803921568627, 0.37254901960784315, 0.00784313725490196),\n",
    "                (0.4588235294117647, 0.4392156862745098, 0.7019607843137254),\n",
    "                (0.9058823529411765, 0.1607843137254902, 0.5411764705882353),\n",
    "                (0.4, 0.6509803921568628, 0.11764705882352941),\n",
    "                (0.9019607843137255, 0.6705882352941176, 0.00784313725490196),\n",
    "                (0.6509803921568628, 0.4627450980392157, 0.11372549019607843),\n",
    "                (0.4, 0.4, 0.4)]\n",
    "rcParams['figure.figsize'] = (12, 9)\n",
    "rcParams['figure.dpi'] = 150\n",
    "rcParams['lines.linewidth'] = 2\n",
    "rcParams['axes.facecolor'] = \"white\"\n",
    "rcParams['axes.titlesize'] = 20\n",
    "rcParams['axes.labelsize'] = 17.5\n",
    "rcParams['xtick.labelsize'] = 15\n",
    "rcParams['ytick.labelsize'] = 15\n",
    "rcParams['legend.fontsize'] = 17.5\n",
    "rcParams['patch.edgecolor'] = 'none'\n",
    "rcParams['grid.color']=\"white\"\n",
    "rcParams['grid.linestyle']=\"-\"\n",
    "rcParams['grid.linewidth'] = 1\n",
    "rcParams['grid.alpha']=1\n",
    "rcParams['text.color'] = \"444444\"\n",
    "rcParams['axes.labelcolor'] = \"444444\"\n",
    "rcParams['ytick.color'] = \"444444\"\n",
    "rcParams['xtick.color'] = \"444444\""
   ]
  },
  {
   "cell_type": "code",
   "execution_count": null,
   "metadata": {
    "id": "rs4yIQhg5XtY"
   },
   "outputs": [],
   "source": [
    "tripdf = pd.read_csv('trip.csv')\n",
    "stationdf = pd.read_csv('station.csv')\n",
    "stationdf.head()"
   ]
  },
  {
   "cell_type": "code",
   "execution_count": null,
   "metadata": {
    "id": "1gYqrsOI5aCc"
   },
   "outputs": [],
   "source": [
    "stationdf.dtypes"
   ]
  },
  {
   "cell_type": "code",
   "execution_count": null,
   "metadata": {
    "id": "EqbCiR715cF6"
   },
   "outputs": [],
   "source": [
    "h_map = folium.Map([stationdf[\"lat\"].median(),stationdf[\"long\"].median()],zoom_start=10,tiles='Stamen Toner')"
   ]
  },
  {
   "cell_type": "code",
   "execution_count": null,
   "metadata": {
    "id": "qlidACi25eU6"
   },
   "outputs": [],
   "source": [
    "stationdf[\"lat\"] = stationdf[\"lat\"].apply(lambda x:str(x))\n",
    "stationdf[\"long\"] = stationdf[\"long\"].apply(lambda x:str(x))\n",
    "stationdf.head()"
   ]
  },
  {
   "cell_type": "code",
   "execution_count": null,
   "metadata": {
    "id": "T-8CKsbn5hut"
   },
   "outputs": [],
   "source": [
    "location_station = [[float(stationdf.lat.values[i]),float(stationdf.long.values[i])] for i in range(len(stationdf))]\n",
    "h_map.add_child(HeatMap(location_station,radius=10))\n",
    "for index,row in stationdf.iterrows():\n",
    "    folium.Marker([float(row['lat']),float(row['long'])],popup=row['name']).add_to(h_map)\n",
    "h_map"
   ]
  },
  {
   "cell_type": "code",
   "execution_count": null,
   "metadata": {
    "id": "UOp717p15jwe"
   },
   "outputs": [],
   "source": [
    "tripdf['start_date'] = pd.to_datetime(tripdf['start_date'])\n",
    "tripdf['end_date'] = pd.to_datetime(tripdf['end_date'])"
   ]
  },
  {
   "cell_type": "code",
   "execution_count": null,
   "metadata": {
    "id": "apX_aMJ-5mPU"
   },
   "outputs": [],
   "source": [
    "start_station = stationdf[[\"id\",\"lat\",\"long\"]]\n",
    "start_station.columns = [\"start_station_id\",\"start_lat\",\"start_long\"]\n",
    "end_station = stationdf[[\"id\",\"lat\",\"long\"]]\n",
    "end_station.columns = [\"end_station_id\",\"end_lat\",\"end_long\"]\n",
    "tripdf = tripdf.merge(start_station,on=\"start_station_id\")\n",
    "tripdf = tripdf.merge(end_station,on=\"end_station_id\")"
   ]
  },
  {
   "cell_type": "code",
   "execution_count": null,
   "metadata": {
    "id": "tbTJ89Pj5p7_"
   },
   "outputs": [],
   "source": [
    "pl_dc = dict()\n",
    "for index,row in tripdf.iterrows():\n",
    "    start_lat = row['start_lat']\n",
    "    start_long = row['start_long']\n",
    "    end_lat = row['end_lat']\n",
    "    end_long = row['end_long']\n",
    "    key = str(start_lat)+'_'+str(start_long)+'_'+str(end_lat)+'_'+str(end_long)\n",
    "    if key in pl_dc:\n",
    "        pl_dc[key] += 1\n",
    "    else:\n",
    "        pl_dc[key] = 1"
   ]
  },
  {
   "cell_type": "code",
   "execution_count": null,
   "metadata": {
    "id": "I0SsaqJJ5qi_"
   },
   "outputs": [],
   "source": [
    "start_lat = []\n",
    "start_long = []\n",
    "end_lat = []\n",
    "end_long = []\n",
    "nb_trips = []\n",
    "for key,value in pl_dc.items():\n",
    "    start_lat.append(float(key.split('_')[0]))\n",
    "    start_long.append(float(key.split('_')[1]))\n",
    "    end_lat.append(float(key.split('_')[2]))\n",
    "    end_long.append(float(key.split('_')[3]))\n",
    "    nb_trips.append(int(value))"
   ]
  },
  {
   "cell_type": "code",
   "execution_count": null,
   "metadata": {
    "id": "_OIyj6QY5s6G"
   },
   "outputs": [],
   "source": [
    "tempdf = pd.DataFrame({\"start_lat\":start_lat,\"start_long\":start_long,\"end_lat\":end_lat,\"end_long\":end_long,\"nb_trips\":nb_trips})\n",
    "tempdf.nb_trips.plot()"
   ]
  },
  {
   "cell_type": "code",
   "execution_count": null,
   "metadata": {
    "id": "rAcI_ltF5we6"
   },
   "outputs": [],
   "source": [
    "ave_lat = (tempdf.start_lat.median()+tempdf.end_lat.median())/2\n",
    "ave_lon = (tempdf.start_long.median()+tempdf.end_long.median())/2\n",
    "directions_map = folium.Map(location=[ave_lat, ave_lon], zoom_start=15)"
   ]
  },
  {
   "cell_type": "code",
   "execution_count": null,
   "metadata": {
    "id": "aAXlqYRp5yPb"
   },
   "outputs": [],
   "source": [
    "for index,row in tempdf.iterrows():\n",
    "    points = []\n",
    "    points.append(tuple([row['start_lat'],row['start_long']]))\n",
    "    points.append(tuple([row['end_lat'],row['end_long']]))\n",
    "    folium.PolyLine(points,color='red',weight=row['nb_trips']/1000).add_to(directions_map)"
   ]
  },
  {
   "cell_type": "code",
   "execution_count": null,
   "metadata": {
    "id": "cMrqBRPZ5z_c"
   },
   "outputs": [],
   "source": [
    "for index,row in stationdf.iterrows():\n",
    "    folium.Marker([float(row['lat']),float(row['long'])],popup=row['name']).add_to(directions_map)\n",
    "directions_map"
   ]
  },
  {
   "cell_type": "code",
   "execution_count": null,
   "metadata": {
    "id": "xKcvgppu52FM"
   },
   "outputs": [],
   "source": [
    "fig, ax1 = plt.subplots(figsize = (10,7))\n",
    "ax1.grid(zorder=1)\n",
    "ax1.xaxis.grid(False)\n",
    "trip_dur = tripdf['duration'].values/60\n",
    "plt.hist(trip_dur, bins = range(0,45,2),density=True,zorder=0,color=dark_colors[1])\n",
    "plt.xlabel('Trip Duration (Minutes)')\n",
    "plt.ylabel('Percent of Trips')\n",
    "plt.title('Trip Duration Distribution')\n",
    "plt.figure(figsize=(15,12))\n",
    "hist, bin_edges = np.histogram(trip_dur, range(0,45,1), normed=True)\n",
    "cum_trip_dur = np.cumsum(hist)\n",
    "ax2 = ax1.twinx()\n",
    "ax2.plot(range(1,45,1),cum_trip_dur,c=dark_colors[0])\n",
    "ax2.set_ylabel('Cumulative Proportion of Trips')"
   ]
  },
  {
   "cell_type": "code",
   "execution_count": null,
   "metadata": {
    "id": "oC8DyC6v54dE"
   },
   "outputs": [],
   "source": [
    "tripdf['week']=tripdf.start_date.dt.dayofweek\n",
    "tripdf['start_hour'] = tripdf.start_date.dt.hour\n",
    "tripdf['start_day'] = tripdf.end_date.dt.hour\n",
    "tripdf['end_day'] = tripdf.end_date.dt.day"
   ]
  },
  {
   "cell_type": "code",
   "execution_count": null,
   "metadata": {
    "id": "jTlf3JEh56QZ"
   },
   "outputs": [],
   "source": [
    "plt.figure(figsize=(10,8))\n",
    "weekdaytrips_df = tripdf.loc[(tripdf.duration <= 7200) & (tripdf.week <5)]\n",
    "weekdaytrips_df.boxplot(column=\"duration\",by=\"start_hour\",figsize=(10,8))\n",
    "plt.ylim(0,3600)\n",
    "plt.ylabel('Trip Duration (Seconds)')\n",
    "plt.xlabel('Hour of Day')\n",
    "plt.title('Trip Duration Distribution Over Time of Day (Week Days)')"
   ]
  },
  {
   "cell_type": "code",
   "execution_count": null,
   "metadata": {
    "id": "oypmgP9k58HP"
   },
   "outputs": [],
   "source": [
    "plt.figure(figsize=(10,8))\n",
    "weekendtrips_df = tripdf.loc[(tripdf.duration <= 7200) & (tripdf.week >4)]\n",
    "weekendtrips_df.boxplot(column=\"duration\",by=\"start_hour\",figsize=(10,8))\n",
    "plt.ylim(0,3600)\n",
    "plt.ylabel('Trip Duration (Seconds)')\n",
    "plt.xlabel('Hour of Day')\n",
    "plt.title('Trip Duration Distribution Over Time of Day (Weekend days)')"
   ]
  }
 ],
 "metadata": {
  "colab": {
   "provenance": []
  },
  "kernelspec": {
   "display_name": "Python 3",
   "name": "python3"
  },
  "language_info": {
   "name": "python"
  }
 },
 "nbformat": 4,
 "nbformat_minor": 0
}
