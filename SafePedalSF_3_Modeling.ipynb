{
 "cells": [
  {
   "cell_type": "markdown",
   "metadata": {
    "id": "emRz3Y5RAdTB"
   },
   "source": [
    "# Prediction"
   ]
  },
  {
   "cell_type": "markdown",
   "metadata": {
    "id": "Y9kacjdiEUsE"
   },
   "source": [
    "##Read and merge Data"
   ]
  },
  {
   "cell_type": "code",
   "execution_count": null,
   "metadata": {
    "id": "KYyGd_ojOhrd"
   },
   "outputs": [],
   "source": [
    "statusdf.count()"
   ]
  },
  {
   "cell_type": "code",
   "execution_count": null,
   "metadata": {
    "id": "eb72f7d4"
   },
   "outputs": [],
   "source": [
    "stationdf.count()"
   ]
  },
  {
   "cell_type": "code",
   "execution_count": null,
   "metadata": {
    "id": "H6hImSwQOqe2"
   },
   "outputs": [],
   "source": [
    "masterdf = statusdf.join(stationdf,statusdf.station_id ==  stationdf.id, 'inner')"
   ]
  },
  {
   "cell_type": "code",
   "execution_count": null,
   "metadata": {
    "id": "_0kTYlxXOqnb"
   },
   "outputs": [],
   "source": [
    "masterdf.show(5)"
   ]
  },
  {
   "cell_type": "code",
   "execution_count": null,
   "metadata": {
    "id": "iSiruqAvOqr-"
   },
   "outputs": [],
   "source": [
    "masterdf = masterdf.drop('id','name', 'installation_date', 'dock_count', 'docks_available', 'station_id')"
   ]
  },
  {
   "cell_type": "code",
   "execution_count": null,
   "metadata": {
    "id": "EQF6QpIHOqur"
   },
   "outputs": [],
   "source": [
    "masterdf.show(5)"
   ]
  },
  {
   "cell_type": "code",
   "execution_count": null,
   "metadata": {
    "id": "PqQBWTemOwcT"
   },
   "outputs": [],
   "source": [
    "date_time_cols = split(masterdf['time'], ' ')"
   ]
  },
  {
   "cell_type": "code",
   "execution_count": null,
   "metadata": {
    "id": "CYbydpu_Owez"
   },
   "outputs": [],
   "source": [
    "masterdf = masterdf.withColumn('date', date_time_cols.getItem(0)).withColumn('time', date_time_cols.getItem(1))"
   ]
  },
  {
   "cell_type": "code",
   "execution_count": null,
   "metadata": {
    "id": "vmqHPLd1OwhC"
   },
   "outputs": [],
   "source": [
    "masterdf.show(5)"
   ]
  },
  {
   "cell_type": "code",
   "execution_count": null,
   "metadata": {
    "id": "leXboFSzOwja"
   },
   "outputs": [],
   "source": [
    "time_cols = split(masterdf['time'], ':')\n",
    "date_cols = split(masterdf['date'], '/')\n",
    "masterdf = masterdf.withColumn('hour', time_cols.getItem(0).cast(IntegerType())).withColumn('minute', time_cols.getItem(1).cast(IntegerType())).withColumn('year', date_cols.getItem(0).cast(IntegerType())).withColumn('month', date_cols.getItem(1).cast(IntegerType())).withColumn('day', date_cols.getItem(2).cast(IntegerType()))"
   ]
  },
  {
   "cell_type": "code",
   "execution_count": null,
   "metadata": {
    "id": "MdSk5A7mOwlt"
   },
   "outputs": [],
   "source": [
    "masterdf = masterdf.drop('time','date')"
   ]
  },
  {
   "cell_type": "code",
   "execution_count": null,
   "metadata": {
    "id": "J23MO6MpO3hP"
   },
   "outputs": [],
   "source": [
    "masterdf.show(5)"
   ]
  },
  {
   "cell_type": "code",
   "execution_count": null,
   "metadata": {
    "id": "DioNXj9MO3jr"
   },
   "outputs": [],
   "source": [
    "#masterdf = masterdf.filter(masterdf.time.like(\"__:05:__\")|masterdf.time.like(\"__:10:__\"))\n",
    "masterdf = masterdf.filter(masterdf.minute % 5 == 0)"
   ]
  },
  {
   "cell_type": "code",
   "execution_count": null,
   "metadata": {
    "id": "F5B9x7vpO3mC"
   },
   "outputs": [],
   "source": [
    "from pyspark.ml.feature import StringIndexer"
   ]
  },
  {
   "cell_type": "code",
   "execution_count": null,
   "metadata": {
    "id": "OnW_R0DEO3oa"
   },
   "outputs": [],
   "source": [
    "# index = StringIndexer(inputCol=\"city\", outputCol=\"cityEncoded\")\n",
    "# masterdf = index.fit(masterdf).transform(masterdf)\n",
    "masterdf.show(5)"
   ]
  },
  {
   "cell_type": "code",
   "execution_count": null,
   "metadata": {
    "id": "zzCvrWnoO3qr"
   },
   "outputs": [],
   "source": [
    "df = masterdf"
   ]
  },
  {
   "cell_type": "markdown",
   "metadata": {
    "id": "3212d8ad"
   },
   "source": [
    "## Cleaning the Data"
   ]
  },
  {
   "cell_type": "code",
   "execution_count": null,
   "metadata": {
    "id": "6d80bd16"
   },
   "outputs": [],
   "source": [
    "# from pyspark.sql.functions import *\n",
    "# df = masterdf.withColumn('name', regexp_replace('name', ',', ''))"
   ]
  },
  {
   "cell_type": "code",
   "execution_count": null,
   "metadata": {
    "id": "7a66ccc2"
   },
   "outputs": [],
   "source": [
    "print((df.count(), len(df.columns)))"
   ]
  },
  {
   "cell_type": "code",
   "execution_count": null,
   "metadata": {
    "id": "a9840066"
   },
   "outputs": [],
   "source": [
    "# df.select([count(when(isnan(c) | col(c).isNull(), c)).alias(c) for c in df.columns]).show()"
   ]
  },
  {
   "cell_type": "code",
   "execution_count": null,
   "metadata": {
    "colab": {
     "background_save": true
    },
    "id": "7301e03f",
    "outputId": "c14fe55c-914e-45dd-b1ff-20d307746bd5",
    "scrolled": true
   },
   "outputs": [
    {
     "name": "stdout",
     "output_type": "stream",
     "text": [
      "+---------------+---------+-------------------+--------+----+------+----+-----+---+\n",
      "|bikes_available|      lat|               long|    city|hour|minute|year|month|day|\n",
      "+---------------+---------+-------------------+--------+----+------+----+-----+---+\n",
      "|              2|37.329732|-121.90178200000001|San Jose|  14|    10|2013|    8| 29|\n",
      "|              3|37.329732|-121.90178200000001|San Jose|   2|    45|2013|    8| 30|\n",
      "|             11|37.329732|-121.90178200000001|San Jose|  18|    30|2013|    8| 30|\n",
      "|             11|37.329732|-121.90178200000001|San Jose|   1|     0|2013|    9|  1|\n",
      "|             11|37.329732|-121.90178200000001|San Jose|  10|    40|2013|    9|  1|\n",
      "|              7|37.329732|-121.90178200000001|San Jose|  14|    10|2013|    9|  1|\n",
      "|             10|37.329732|-121.90178200000001|San Jose|  23|    30|2013|    9|  2|\n",
      "|             11|37.329732|-121.90178200000001|San Jose|  12|    35|2013|    9|  3|\n",
      "|              9|37.329732|-121.90178200000001|San Jose|   0|    55|2013|    9|  4|\n",
      "|             15|37.329732|-121.90178200000001|San Jose|   5|    55|2013|    9|  6|\n",
      "|             21|37.329732|-121.90178200000001|San Jose|  23|    30|2013|    9|  6|\n",
      "|             16|37.329732|-121.90178200000001|San Jose|  11|    10|2013|    9|  7|\n",
      "|              7|37.329732|-121.90178200000001|San Jose|  18|    15|2013|    9|  8|\n",
      "|              7|37.329732|-121.90178200000001|San Jose|   1|    40|2013|    9| 10|\n",
      "|             10|37.329732|-121.90178200000001|San Jose|   8|    30|2013|    9| 10|\n",
      "|              4|37.329732|-121.90178200000001|San Jose|  13|    55|2013|    9| 10|\n",
      "|             14|37.329732|-121.90178200000001|San Jose|  20|    25|2013|    9| 10|\n",
      "|             13|37.329732|-121.90178200000001|San Jose|   0|    30|2013|    9| 12|\n",
      "|             10|37.329732|-121.90178200000001|San Jose|   9|    40|2013|    9| 12|\n",
      "|             18|37.329732|-121.90178200000001|San Jose|  18|    30|2013|    9| 13|\n",
      "+---------------+---------+-------------------+--------+----+------+----+-----+---+\n",
      "only showing top 20 rows\n",
      "\n"
     ]
    }
   ],
   "source": [
    "df_clean=df.dropna()\n",
    "df_clean=df_clean.dropDuplicates()\n",
    "df_clean.show()"
   ]
  },
  {
   "cell_type": "code",
   "execution_count": null,
   "metadata": {
    "colab": {
     "background_save": true
    },
    "id": "33797e4d",
    "outputId": "4195c33b-505c-4bb6-a215-259c45bb6c8d"
   },
   "outputs": [
    {
     "name": "stdout",
     "output_type": "stream",
     "text": [
      "(3418966, 9)\n"
     ]
    }
   ],
   "source": [
    "print((df_clean.count(), len(df_clean.columns)))"
   ]
  },
  {
   "cell_type": "code",
   "execution_count": null,
   "metadata": {
    "id": "4679f083"
   },
   "outputs": [],
   "source": [
    "df_clean = df_clean \\\n",
    "    .withColumn(\"lat\", df_clean[\"lat\"].cast(FloatType()))   \\\n",
    "    .withColumn(\"bikes_available\", df_clean[\"bikes_available\"].cast(IntegerType()))   \\\n",
    "    .withColumn(\"long\", df_clean[\"long\"].cast(FloatType()))\n",
    "\n",
    "df_clean.printSchema()"
   ]
  },
  {
   "cell_type": "code",
   "execution_count": null,
   "metadata": {
    "id": "llyiwzG_rYAA"
   },
   "outputs": [],
   "source": [
    "df_clean.select(\n",
    "    percentile_approx(\"bikes_available\", [0.25, 0.5, 0.75], 1000000).alias(\"quantiles\")).collect()"
   ]
  },
  {
   "cell_type": "code",
   "execution_count": null,
   "metadata": {
    "id": "c413d735"
   },
   "outputs": [],
   "source": [
    "q1_bikes = df_clean.select(percentile_approx(\"bikes_available\", [0.25], 1000000).alias(\"quantiles\")).collect()[0]['quantiles'][0]\n",
    "q3_bikes = df_clean.select(percentile_approx(\"bikes_available\", [0.75], 1000000).alias(\"quantiles\")).collect()[0]['quantiles'][0]\n",
    "iqr_bikes = q3_bikes - q1_bikes\n",
    "\n",
    "#Check the Outlier Dock_counts\n",
    "top_outlier_bikes = q3_bikes + 1.5 * iqr_bikes\n",
    "bottom_outlier_bikes = q1_bikes - 1.5 * iqr_bikes\n",
    "print(top_outlier_bikes, bottom_outlier_bikes)"
   ]
  },
  {
   "cell_type": "code",
   "execution_count": null,
   "metadata": {
    "id": "67455f65"
   },
   "outputs": [],
   "source": [
    "df_clean.show()"
   ]
  },
  {
   "cell_type": "code",
   "execution_count": null,
   "metadata": {
    "id": "cfce86d4"
   },
   "outputs": [],
   "source": [
    "df_selected = df_clean.select(\"bikes_available\", \"city\", \"lat\", \"long\", \"hour\", \"minute\", \"year\", \"month\", \"day\")\n",
    "df_selected.printSchema()"
   ]
  },
  {
   "cell_type": "markdown",
   "metadata": {
    "id": "664c155b"
   },
   "source": [
    "## Convert the Categorical Variables"
   ]
  },
  {
   "cell_type": "code",
   "execution_count": null,
   "metadata": {
    "id": "181a73ea"
   },
   "outputs": [],
   "source": [
    "indexer = StringIndexer(inputCols=[\"city\"],\n",
    "                        outputCols=[\"cityIndex\"],\n",
    "                        stringOrderType=\"alphabetAsc\")\n",
    "indexed = indexer.fit(df_selected).transform(df_selected)\n",
    "indexed.show()"
   ]
  },
  {
   "cell_type": "code",
   "execution_count": null,
   "metadata": {
    "id": "f16deefb"
   },
   "outputs": [],
   "source": [
    "encoder = OneHotEncoder(inputCols=[\"cityIndex\"],\n",
    "                        outputCols=[\"categoryCity\"])\n",
    "model = encoder.fit(indexed)\n",
    "encoded = model.transform(indexed)\n",
    "encoded.show()"
   ]
  },
  {
   "cell_type": "code",
   "execution_count": null,
   "metadata": {
    "id": "65c31c57"
   },
   "outputs": [],
   "source": [
    "encoded.columns"
   ]
  },
  {
   "cell_type": "markdown",
   "metadata": {
    "id": "3e0fb16c"
   },
   "source": [
    "## Make the Features into a Vector"
   ]
  },
  {
   "cell_type": "code",
   "execution_count": null,
   "metadata": {
    "id": "7ad67da9"
   },
   "outputs": [],
   "source": [
    "featureassembler=VectorAssembler(inputCols=['categoryCity', 'lat', 'long', 'hour', 'minute', 'year', 'month', 'day'],\n",
    "                                 outputCol=\"SelectFeatures\")\n",
    "output=featureassembler.transform(encoded)\n",
    "output.show()"
   ]
  },
  {
   "cell_type": "code",
   "execution_count": null,
   "metadata": {
    "id": "34b3597a"
   },
   "outputs": [],
   "source": [
    "finalized_data=output.select(\"SelectFeatures\",\"bikes_available\")\n"
   ]
  },
  {
   "cell_type": "code",
   "execution_count": null,
   "metadata": {
    "id": "c034c63a"
   },
   "outputs": [],
   "source": [
    "##train test split\n",
    "train_data,test_data=finalized_data.randomSplit([0.8,0.2])"
   ]
  },
  {
   "cell_type": "markdown",
   "metadata": {
    "id": "b2aa697b"
   },
   "source": [
    "## Simple Linear Regression"
   ]
  },
  {
   "cell_type": "code",
   "execution_count": null,
   "metadata": {
    "id": "6e1afb87"
   },
   "outputs": [],
   "source": [
    "regressor=LinearRegression(featuresCol='SelectFeatures', labelCol='bikes_available')\n",
    "regressor=regressor.fit(train_data)\n",
    "print(\"Coefficients: \" + str(regressor.coefficients))\n",
    "print(\"Intercept: \" + str(regressor.intercept))"
   ]
  },
  {
   "cell_type": "code",
   "execution_count": null,
   "metadata": {
    "id": "250e86b3"
   },
   "outputs": [],
   "source": [
    "trainingSummary = regressor.summary\n",
    "print(\"RMSE: %f\" % trainingSummary.rootMeanSquaredError)\n",
    "print(\"r2: %f\" % trainingSummary.r2)"
   ]
  },
  {
   "cell_type": "code",
   "execution_count": null,
   "metadata": {
    "id": "37dfe74a"
   },
   "outputs": [],
   "source": [
    "### Prediction of Linear Regression\n",
    "pred_results=regressor.evaluate(test_data)"
   ]
  },
  {
   "cell_type": "code",
   "execution_count": null,
   "metadata": {
    "id": "17f17fe5"
   },
   "outputs": [],
   "source": [
    "pred_results.meanAbsoluteError,pred_results.rootMeanSquaredError"
   ]
  },
  {
   "cell_type": "markdown",
   "metadata": {
    "id": "4cde42fc"
   },
   "source": [
    "## Random Forest Model"
   ]
  },
  {
   "cell_type": "code",
   "execution_count": null,
   "metadata": {
    "id": "3474cdd5"
   },
   "outputs": [],
   "source": [
    "rf = RandomForestRegressor(featuresCol='SelectFeatures', labelCol='bikes_available')\n",
    "rf_model=rf.fit(train_data)"
   ]
  },
  {
   "cell_type": "code",
   "execution_count": null,
   "metadata": {
    "colab": {
     "background_save": true
    },
    "id": "cf8f0486",
    "outputId": "32204b70-0fed-46e3-eb74-f0fcc3ee8baa"
   },
   "outputs": [
    {
     "name": "stdout",
     "output_type": "stream",
     "text": [
      "Root Mean Squared Error (RMSE) on test data = 3.30922\n",
      "(R2) on test data = 0.15101\n",
      "(MAE) on test data = 2.5114\n",
      "Root Mean Squared Error (RMSE) on test data = 3.30922\n",
      " (R2) on test data = 0.15101\n",
      " (MAE) on test data = 2.5114\n"
     ]
    }
   ],
   "source": [
    "### Prediction of random forest model\n",
    "\n",
    "rf_predictions = rf_model.transform(test_data)\n",
    "rf_evaluator = RegressionEvaluator(labelCol=\"bikes_available\", predictionCol=\"prediction\", metricName=\"rmse\")\n",
    "rmse = rf_evaluator.evaluate(rf_predictions)\n",
    "rf_evaluator = RegressionEvaluator(labelCol=\"bikes_available\", predictionCol=\"prediction\", metricName=\"r2\")\n",
    "r2 = rf_evaluator.evaluate(rf_predictions)\n",
    "rf_evaluator = RegressionEvaluator(labelCol=\"bikes_available\", predictionCol=\"prediction\", metricName=\"mae\")\n",
    "mae = rf_evaluator.evaluate(rf_predictions)\n",
    "print(\"Root Mean Squared Error (RMSE) on test data = %g\\n(R2) on test data = %g\\n(MAE) on test data = %g\"%(rmse, r2, mae))\n",
    "print(\"Root Mean Squared Error (RMSE) on test data = %g\" % rmse)\n",
    "print(\" (R2) on test data = %g\" % r2)\n",
    "print(\" (MAE) on test data = %g\" % mae)\n"
   ]
  },
  {
   "cell_type": "code",
   "execution_count": null,
   "metadata": {
    "id": "e1d567f8"
   },
   "outputs": [],
   "source": [
    "rf_predictions.show()"
   ]
  },
  {
   "cell_type": "code",
   "execution_count": null,
   "metadata": {
    "id": "d0ce33c7"
   },
   "outputs": [],
   "source": [
    "rf_model.featureImportances"
   ]
  },
  {
   "cell_type": "code",
   "execution_count": null,
   "metadata": {
    "id": "7997b5fc"
   },
   "outputs": [],
   "source": [
    "finalized_data.select('SelectFeatures').take(2)"
   ]
  },
  {
   "cell_type": "markdown",
   "metadata": {
    "id": "2a6daefd"
   },
   "source": [
    "## Gradient Boosting Tree Model"
   ]
  },
  {
   "cell_type": "code",
   "execution_count": null,
   "metadata": {
    "id": "a1a3db49"
   },
   "outputs": [],
   "source": [
    "train_data,test_data=finalized_data.randomSplit([0.8,0.2])\n",
    "gbt=GBTRegressor(featuresCol='SelectFeatures', labelCol='bikes_available')\n",
    "gbt_model=gbt.fit(train_data)"
   ]
  },
  {
   "cell_type": "code",
   "execution_count": null,
   "metadata": {
    "id": "da047846"
   },
   "outputs": [],
   "source": [
    "### Prediction of GBT Model\n",
    "gbt_predictions = gbt_model.transform(test_data)\n",
    "# gbt_evaluator = RegressionEvaluator(labelCol=\"bikes_available\", predictionCol=\"prediction\", metricName=\"rmse\")\n",
    "# rmse = gbt_evaluator.evaluate(gbt_predictions)\n",
    "gbt_evaluator = RegressionEvaluator(labelCol=\"bikes_available\", predictionCol=\"prediction\")\n",
    "r2 = gbt_evaluator.evaluate(gbt_predictions, {gbt_evaluator.metricName: \"r2\"})\n",
    "rmse = gbt_evaluator.evaluate(gbt_predictions, {gbt_evaluator.metricName: \"rmse\"})\n",
    "mae = gbt_evaluator.evaluate(gbt_predictions, {gbt_evaluator.metricName: \"mae\"})\n",
    "\n",
    "print(\"Root Mean Squared Error (RMSE) on test data = %g\" % rmse)\n",
    "print(\"Mean Average Error (MAE) on test data = %g\" % mae)\n",
    "print(\"R2 (R2) on test data = %g\" % r2)\n"
   ]
  }
 ],
 "metadata": {
  "colab": {
   "provenance": []
  },
  "kernelspec": {
   "display_name": "Python 3",
   "name": "python3"
  },
  "language_info": {
   "name": "python"
  }
 },
 "nbformat": 4,
 "nbformat_minor": 0
}
