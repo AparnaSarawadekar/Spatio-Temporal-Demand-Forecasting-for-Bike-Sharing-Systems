{
 "cells": [
  {
   "cell_type": "markdown",
   "metadata": {
    "id": "dc82I3V9AnPT"
   },
   "source": [
    "# **Import Dataset and Libraries**"
   ]
  },
  {
   "cell_type": "code",
   "execution_count": 1,
   "metadata": {
    "colab": {
     "base_uri": "https://localhost:8080/"
    },
    "id": "G2Z_gvqExRwC",
    "outputId": "a401f3da-e550-425d-9868-c47200b76eda"
   },
   "outputs": [
    {
     "name": "stdout",
     "output_type": "stream",
     "text": [
      "Requirement already satisfied: kaggle in /usr/local/lib/python3.10/dist-packages (1.6.17)\n",
      "Requirement already satisfied: six>=1.10 in /usr/local/lib/python3.10/dist-packages (from kaggle) (1.16.0)\n",
      "Requirement already satisfied: certifi>=2023.7.22 in /usr/local/lib/python3.10/dist-packages (from kaggle) (2024.7.4)\n",
      "Requirement already satisfied: python-dateutil in /usr/local/lib/python3.10/dist-packages (from kaggle) (2.8.2)\n",
      "Requirement already satisfied: requests in /usr/local/lib/python3.10/dist-packages (from kaggle) (2.32.3)\n",
      "Requirement already satisfied: tqdm in /usr/local/lib/python3.10/dist-packages (from kaggle) (4.66.5)\n",
      "Requirement already satisfied: python-slugify in /usr/local/lib/python3.10/dist-packages (from kaggle) (8.0.4)\n",
      "Requirement already satisfied: urllib3 in /usr/local/lib/python3.10/dist-packages (from kaggle) (2.0.7)\n",
      "Requirement already satisfied: bleach in /usr/local/lib/python3.10/dist-packages (from kaggle) (6.1.0)\n",
      "Requirement already satisfied: webencodings in /usr/local/lib/python3.10/dist-packages (from bleach->kaggle) (0.5.1)\n",
      "Requirement already satisfied: text-unidecode>=1.3 in /usr/local/lib/python3.10/dist-packages (from python-slugify->kaggle) (1.3)\n",
      "Requirement already satisfied: charset-normalizer<4,>=2 in /usr/local/lib/python3.10/dist-packages (from requests->kaggle) (3.3.2)\n",
      "Requirement already satisfied: idna<4,>=2.5 in /usr/local/lib/python3.10/dist-packages (from requests->kaggle) (3.7)\n"
     ]
    }
   ],
   "source": [
    "!pip install kaggle"
   ]
  },
  {
   "cell_type": "code",
   "execution_count": 2,
   "metadata": {
    "id": "Iwruyu6vyh72"
   },
   "outputs": [],
   "source": [
    "! mkdir ~/.kaggle"
   ]
  },
  {
   "cell_type": "code",
   "execution_count": 3,
   "metadata": {
    "colab": {
     "base_uri": "https://localhost:8080/"
    },
    "id": "ApElSUerykxt",
    "outputId": "8e71da27-31ae-4fd2-95e6-6e1b21a8714c"
   },
   "outputs": [
    {
     "name": "stdout",
     "output_type": "stream",
     "text": [
      "cp: cannot stat 'kaggle.json': No such file or directory\n"
     ]
    }
   ],
   "source": [
    "! cp kaggle.json ~/.kaggle/"
   ]
  },
  {
   "cell_type": "code",
   "execution_count": 4,
   "metadata": {
    "colab": {
     "base_uri": "https://localhost:8080/"
    },
    "id": "v4YUv47Fynkm",
    "outputId": "0706854c-93a0-46fd-d5d6-32f44ec6481d"
   },
   "outputs": [
    {
     "name": "stdout",
     "output_type": "stream",
     "text": [
      "chmod: cannot access '/root/.kaggle/kaggle.json': No such file or directory\n"
     ]
    }
   ],
   "source": [
    "! chmod 600 ~/.kaggle/kaggle.json"
   ]
  },
  {
   "cell_type": "code",
   "execution_count": 5,
   "metadata": {
    "colab": {
     "base_uri": "https://localhost:8080/"
    },
    "id": "AIxmDXqGyqvM",
    "outputId": "b4fbac68-3a59-402c-c405-f8ecf985802f"
   },
   "outputs": [
    {
     "name": "stdout",
     "output_type": "stream",
     "text": [
      "Dataset URL: https://www.kaggle.com/datasets/benhamner/sf-bay-area-bike-share\n",
      "License(s): unknown\n",
      "Downloading sf-bay-area-bike-share.zip to /content\n",
      " 99% 551M/554M [00:11<00:00, 42.9MB/s]\n",
      "100% 554M/554M [00:11<00:00, 50.1MB/s]\n"
     ]
    }
   ],
   "source": [
    "! kaggle datasets download benhamner/sf-bay-area-bike-share"
   ]
  },
  {
   "cell_type": "code",
   "execution_count": null,
   "metadata": {
    "colab": {
     "base_uri": "https://localhost:8080/"
    },
    "id": "QQLSSUhoVHOf",
    "outputId": "8dad50b0-cfc8-46f1-89c9-028fd429a05f"
   },
   "outputs": [
    {
     "name": "stdout",
     "output_type": "stream",
     "text": [
      "Drive already mounted at /content/drive; to attempt to forcibly remount, call drive.mount(\"/content/drive\", force_remount=True).\n"
     ]
    }
   ],
   "source": [
    "# get crime data from google drive\n",
    "from google.colab import drive\n",
    "drive.mount('/content/drive')"
   ]
  },
  {
   "cell_type": "code",
   "execution_count": null,
   "metadata": {
    "colab": {
     "base_uri": "https://localhost:8080/"
    },
    "id": "9EysYrRkyvQM",
    "outputId": "da981e26-63a8-4fc8-9167-c4cd73cc96b0"
   },
   "outputs": [
    {
     "name": "stdout",
     "output_type": "stream",
     "text": [
      "Requirement already satisfied: pyspark in /usr/local/lib/python3.10/dist-packages (3.5.2)\n",
      "Requirement already satisfied: py4j==0.10.9.7 in /usr/local/lib/python3.10/dist-packages (from pyspark) (0.10.9.7)\n"
     ]
    }
   ],
   "source": [
    "! pip install pyspark"
   ]
  },
  {
   "cell_type": "code",
   "execution_count": null,
   "metadata": {
    "colab": {
     "base_uri": "https://localhost:8080/"
    },
    "id": "1jyc8KMYy26K",
    "outputId": "d4e8d5a8-43fd-4a67-8589-a1f8aad5f8d7"
   },
   "outputs": [
    {
     "name": "stdout",
     "output_type": "stream",
     "text": [
      "Archive:  /content/sf-bay-area-bike-share.zip\n",
      "  inflating: /content/database.sqlite  \n",
      "  inflating: /content/station.csv    \n",
      "  inflating: /content/status.csv     \n",
      "  inflating: /content/trip.csv       \n",
      "  inflating: /content/weather.csv    \n"
     ]
    }
   ],
   "source": [
    "!unzip /content/sf-bay-area-bike-share.zip -d /content"
   ]
  },
  {
   "cell_type": "code",
   "execution_count": null,
   "metadata": {
    "id": "KoIsMospyR8t"
   },
   "outputs": [],
   "source": [
    "import pandas as pd\n",
    "import numpy as np\n",
    "import seaborn as sns\n",
    "\n",
    "from matplotlib import pyplot as plt\n",
    "from matplotlib import rcParams\n",
    "\n",
    "import folium\n",
    "from folium import plugins\n",
    "from folium.plugins import HeatMap\n",
    "\n",
    "import plotly.express as px\n",
    "\n",
    "from geopandas import GeoDataFrame # Loading boundaries Data\n",
    "\n",
    "from shapely.geometry import Point, Polygon, shape # creating geospatial data\n",
    "from shapely import wkb, wkt # creating and parsing geospatial data\n",
    "\n",
    "from pyspark.sql import SparkSession\n",
    "from pyspark.sql.functions import split, col, round, to_timestamp, hour, dayofweek, count, month\n",
    "from pyspark.sql.functions import radians, sqrt, sin, cos, asin, udf, lit, rank, expr\n",
    "from pyspark.sql.functions import *\n",
    "\n",
    "from pyspark.sql.types import StringType, DateType, FloatType, IntegerType\n",
    "from pyspark.sql.window import Window\n",
    "\n",
    "from collections import Counter\n",
    "\n",
    "from ast import literal_eval as make_tuple # used to decode data from java\n",
    "\n",
    "import lightgbm as lgb\n",
    "from sklearn.model_selection import KFold\n",
    "\n",
    "import requests\n",
    "\n",
    "from pyspark.ml.feature import StringIndexer, OneHotEncoder, VectorAssembler\n",
    "from pyspark.ml.regression import LinearRegression, RandomForestRegressor, GBTRegressor\n",
    "from pyspark.ml.evaluation import RegressionEvaluator"
   ]
  },
  {
   "cell_type": "markdown",
   "metadata": {
    "id": "02oIt8DJnz1U"
   },
   "source": [
    "# **Spark Session and Loading Datasets**"
   ]
  },
  {
   "cell_type": "code",
   "execution_count": null,
   "metadata": {
    "id": "cdCchqQEAKTH"
   },
   "outputs": [],
   "source": [
    "spark = SparkSession.builder.master(\"local\").appName(\"BigDataProject\").config('spark.ui.port','4050').getOrCreate()"
   ]
  },
  {
   "cell_type": "code",
   "execution_count": null,
   "metadata": {
    "id": "sVcBsw0oAT-M"
   },
   "outputs": [],
   "source": [
    "statusdf = spark.read.csv('/content/drive/MyDrive/UCR/226_Big_Data/Project/Dataset/status.csv', header=True, inferSchema=True)\n",
    "stationdf = spark.read.csv('/content/drive/MyDrive/UCR/226_Big_Data/Project/Dataset/station.csv', header=True, inferSchema=True)\n",
    "tripdf = spark.read.csv('/content/drive/MyDrive/UCR/226_Big_Data/Project/Dataset/trip.csv', header=True, inferSchema=True)\n",
    "crimedf = spark.read.csv('/content/drive/MyDrive/UCR/226_Big_Data/Project/Dataset/crime_report.csv', header=True, inferSchema=True)"
   ]
  },
  {
   "cell_type": "code",
   "execution_count": null,
   "metadata": {
    "colab": {
     "base_uri": "https://localhost:8080/"
    },
    "id": "WE3l-uXuAcjq",
    "outputId": "52a4ff30-bf1b-40cb-c754-956fc889e8ff"
   },
   "outputs": [
    {
     "name": "stdout",
     "output_type": "stream",
     "text": [
      "+----------+---------------+---------------+-------------------+\n",
      "|station_id|bikes_available|docks_available|               time|\n",
      "+----------+---------------+---------------+-------------------+\n",
      "|         2|              2|             25|2013/08/29 12:06:01|\n",
      "|         2|              2|             25|2013/08/29 12:07:01|\n",
      "|         2|              2|             25|2013/08/29 12:08:01|\n",
      "|         2|              2|             25|2013/08/29 12:09:01|\n",
      "|         2|              2|             25|2013/08/29 12:10:01|\n",
      "+----------+---------------+---------------+-------------------+\n",
      "only showing top 5 rows\n",
      "\n"
     ]
    },
    {
     "data": {
      "text/plain": [
       "71984434"
      ]
     },
     "execution_count": 27,
     "metadata": {},
     "output_type": "execute_result"
    }
   ],
   "source": [
    "statusdf.show(5)\n",
    "statusdf.count()"
   ]
  },
  {
   "cell_type": "code",
   "execution_count": null,
   "metadata": {
    "colab": {
     "base_uri": "https://localhost:8080/"
    },
    "id": "aWjQSqTwAe6r",
    "outputId": "fd1b9edc-1e07-4885-d060-e30ac495240b"
   },
   "outputs": [
    {
     "name": "stdout",
     "output_type": "stream",
     "text": [
      "+---+--------------------+------------------+-------------------+----------+--------+-----------------+\n",
      "| id|                name|               lat|               long|dock_count|    city|installation_date|\n",
      "+---+--------------------+------------------+-------------------+----------+--------+-----------------+\n",
      "|  2|San Jose Diridon ...|         37.329732|-121.90178200000001|        27|San Jose|         8/6/2013|\n",
      "|  3|San Jose Civic Ce...|         37.330698|        -121.888979|        15|San Jose|         8/5/2013|\n",
      "|  4|Santa Clara at Al...|         37.333988|        -121.894902|        11|San Jose|         8/6/2013|\n",
      "|  5|    Adobe on Almaden|         37.331415|          -121.8932|        19|San Jose|         8/5/2013|\n",
      "|  6|    San Pedro Square|37.336721000000004|        -121.894074|        15|San Jose|         8/7/2013|\n",
      "+---+--------------------+------------------+-------------------+----------+--------+-----------------+\n",
      "only showing top 5 rows\n",
      "\n"
     ]
    },
    {
     "data": {
      "text/plain": [
       "70"
      ]
     },
     "execution_count": 28,
     "metadata": {},
     "output_type": "execute_result"
    }
   ],
   "source": [
    "stationdf.show(5)\n",
    "stationdf.count()"
   ]
  },
  {
   "cell_type": "code",
   "execution_count": null,
   "metadata": {
    "colab": {
     "base_uri": "https://localhost:8080/"
    },
    "id": "kp6nKQ6M_xiK",
    "outputId": "6fc10838-7180-418c-d72c-0de9003c2271"
   },
   "outputs": [
    {
     "name": "stdout",
     "output_type": "stream",
     "text": [
      "+--------------------+-------------+-------------------+-------------+--------------------+--------------------+------------+-----------+---------------+----------+----------------+-----------------------+------------+-------------+-----------------+--------------------+--------------------+--------------+------------+----+---------------+---------------------+-------------------+------------------------+--------+---------+-----+-------------+----------------------+----------------------------------------------------+--------------------------------------------+---------------------------+-----------------------------------+----------------------------+------------------------+\n",
      "|   Incident Datetime|Incident Date|      Incident Time|Incident Year|Incident Day of Week|     Report Datetime|      Row ID|Incident ID|Incident Number|CAD Number|Report Type Code|Report Type Description|Filed Online|Incident Code|Incident Category|Incident Subcategory|Incident Description|    Resolution|Intersection| CNN|Police District|Analysis Neighborhood|Supervisor District|Supervisor District 2012|Latitude|Longitude|Point|Neighborhoods|ESNCAG - Boundary File|Central Market/Tenderloin Boundary Polygon - Updated|Civic Center Harm Reduction Project Boundary|HSOC Zones as of 2018-06-05|Invest In Neighborhoods (IIN) Areas|Current Supervisor Districts|Current Police Districts|\n",
      "+--------------------+-------------+-------------------+-------------+--------------------+--------------------+------------+-----------+---------------+----------+----------------+-----------------------+------------+-------------+-----------------+--------------------+--------------------+--------------+------------+----+---------------+---------------------+-------------------+------------------------+--------+---------+-----+-------------+----------------------+----------------------------------------------------+--------------------------------------------+---------------------------+-----------------------------------+----------------------------+------------------------+\n",
      "|2023/03/13 11:41:...|   2023/03/13|2024-08-22 23:41:00|         2023|              Monday|2023/03/13 11:41:...|125373607041|    1253736|      230167874|      NULL|              VS|     Vehicle Supplement|        NULL|         7041|Recovered Vehicle|   Recovered Vehicle|Vehicle, Recovere...|Open or Active|        NULL|NULL|      Out of SF|                 NULL|               NULL|                    NULL|    NULL|     NULL| NULL|         NULL|                  NULL|                                                NULL|                                        NULL|                       NULL|                               NULL|                        NULL|                    NULL|\n",
      "|2023/03/01 05:02:...|   2023/03/01|2024-08-22 05:02:00|         2023|           Wednesday|2023/03/11 03:40:...|125379506374|    1253795|      236046151|      NULL|              II|       Coplogic Initial|        true|         6374|    Larceny Theft|Larceny Theft - O...|Theft, Other Prop...|Open or Active|        NULL|NULL|        Mission|                 NULL|               NULL|                    NULL|    NULL|     NULL| NULL|         NULL|                  NULL|                                                NULL|                                        NULL|                       NULL|                               NULL|                        NULL|                    NULL|\n",
      "|2023/03/13 01:16:...|   2023/03/13|2024-08-22 13:16:00|         2023|              Monday|2023/03/13 01:17:...|125357107041|    1253571|      220343896|      NULL|              VS|     Vehicle Supplement|        NULL|         7041|Recovered Vehicle|   Recovered Vehicle|Vehicle, Recovere...|Open or Active|        NULL|NULL|      Out of SF|                 NULL|               NULL|                    NULL|    NULL|     NULL| NULL|         NULL|                  NULL|                                                NULL|                                        NULL|                       NULL|                               NULL|                        NULL|                    NULL|\n",
      "|2023/03/13 10:59:...|   2023/03/13|2024-08-22 10:59:00|         2023|              Monday|2023/03/13 11:00:...|125355107041|    1253551|      230174885|      NULL|              VS|     Vehicle Supplement|        NULL|         7041|Recovered Vehicle|   Recovered Vehicle|Vehicle, Recovere...|Open or Active|        NULL|NULL|      Out of SF|                 NULL|               NULL|                    NULL|    NULL|     NULL| NULL|         NULL|                  NULL|                                                NULL|                                        NULL|                       NULL|                               NULL|                        NULL|                    NULL|\n",
      "|2023/03/14 06:44:...|   2023/03/14|2024-08-22 18:44:00|         2023|             Tuesday|2023/03/14 06:45:...|125402407041|    1254024|      230176728|      NULL|              VS|     Vehicle Supplement|        NULL|         7041|Recovered Vehicle|   Recovered Vehicle|Vehicle, Recovere...|Open or Active|        NULL|NULL|      Out of SF|                 NULL|               NULL|                    NULL|    NULL|     NULL| NULL|         NULL|                  NULL|                                                NULL|                                        NULL|                       NULL|                               NULL|                        NULL|                    NULL|\n",
      "+--------------------+-------------+-------------------+-------------+--------------------+--------------------+------------+-----------+---------------+----------+----------------+-----------------------+------------+-------------+-----------------+--------------------+--------------------+--------------+------------+----+---------------+---------------------+-------------------+------------------------+--------+---------+-----+-------------+----------------------+----------------------------------------------------+--------------------------------------------+---------------------------+-----------------------------------+----------------------------+------------------------+\n",
      "only showing top 5 rows\n",
      "\n"
     ]
    },
    {
     "data": {
      "text/plain": [
       "798476"
      ]
     },
     "execution_count": 29,
     "metadata": {},
     "output_type": "execute_result"
    }
   ],
   "source": [
    "crimedf.show(5)\n",
    "crimedf.count()"
   ]
  },
  {
   "cell_type": "code",
   "execution_count": null,
   "metadata": {
    "colab": {
     "base_uri": "https://localhost:8080/"
    },
    "id": "GqH_S3i3bm6W",
    "outputId": "905acbf0-2b09-487e-9eb7-5f1d0ad875b8"
   },
   "outputs": [
    {
     "name": "stdout",
     "output_type": "stream",
     "text": [
      "+----+--------+---------------+--------------------+----------------+---------------+--------------------+--------------+-------+-----------------+--------+\n",
      "|  id|duration|     start_date|  start_station_name|start_station_id|       end_date|    end_station_name|end_station_id|bike_id|subscription_type|zip_code|\n",
      "+----+--------+---------------+--------------------+----------------+---------------+--------------------+--------------+-------+-----------------+--------+\n",
      "|4576|      63|8/29/2013 14:13|South Van Ness at...|              66|8/29/2013 14:14|South Van Ness at...|            66|    520|       Subscriber|   94127|\n",
      "|4607|      70|8/29/2013 14:42|  San Jose City Hall|              10|8/29/2013 14:43|  San Jose City Hall|            10|    661|       Subscriber|   95138|\n",
      "|4130|      71|8/29/2013 10:16|Mountain View Cit...|              27|8/29/2013 10:17|Mountain View Cit...|            27|     48|       Subscriber|   97214|\n",
      "|4251|      77|8/29/2013 11:29|  San Jose City Hall|              10|8/29/2013 11:30|  San Jose City Hall|            10|     26|       Subscriber|   95060|\n",
      "|4299|      83|8/29/2013 12:02|South Van Ness at...|              66|8/29/2013 12:04|      Market at 10th|            67|    319|       Subscriber|   94103|\n",
      "+----+--------+---------------+--------------------+----------------+---------------+--------------------+--------------+-------+-----------------+--------+\n",
      "only showing top 5 rows\n",
      "\n"
     ]
    },
    {
     "data": {
      "text/plain": [
       "669959"
      ]
     },
     "execution_count": 30,
     "metadata": {},
     "output_type": "execute_result"
    }
   ],
   "source": [
    "tripdf.show(5)\n",
    "tripdf.count()"
   ]
  },
  {
   "cell_type": "code",
   "execution_count": null,
   "metadata": {
    "colab": {
     "base_uri": "https://localhost:8080/"
    },
    "id": "jw2a7Ezvbz-t",
    "outputId": "e3148285-65c0-4a9f-d6aa-706cc8420175"
   },
   "outputs": [
    {
     "name": "stdout",
     "output_type": "stream",
     "text": [
      "root\n",
      " |-- id: integer (nullable = true)\n",
      " |-- duration: integer (nullable = true)\n",
      " |-- start_date: string (nullable = true)\n",
      " |-- start_station_name: string (nullable = true)\n",
      " |-- start_station_id: integer (nullable = true)\n",
      " |-- end_date: string (nullable = true)\n",
      " |-- end_station_name: string (nullable = true)\n",
      " |-- end_station_id: integer (nullable = true)\n",
      " |-- bike_id: integer (nullable = true)\n",
      " |-- subscription_type: string (nullable = true)\n",
      " |-- zip_code: string (nullable = true)\n",
      "\n"
     ]
    }
   ],
   "source": [
    "tripdf.printSchema()"
   ]
  },
  {
   "cell_type": "markdown",
   "metadata": {
    "id": "ZWBnQRBfeLs-"
   },
   "source": [
    "# **Data Cleaning**"
   ]
  },
  {
   "cell_type": "code",
   "execution_count": null,
   "metadata": {
    "colab": {
     "base_uri": "https://localhost:8080/"
    },
    "id": "--Y5fClzAVBs",
    "outputId": "d9e4ca3c-6760-446a-a239-6791ff4d34ea"
   },
   "outputs": [
    {
     "name": "stdout",
     "output_type": "stream",
     "text": [
      "798476\n"
     ]
    },
    {
     "data": {
      "text/plain": [
       "755095"
      ]
     },
     "execution_count": 32,
     "metadata": {},
     "output_type": "execute_result"
    }
   ],
   "source": [
    "#remove NaN values from crime dataframe\n",
    "print(crimedf.count())\n",
    "crimedf = crimedf.dropna(subset=['Latitude', 'Longitude'])\n",
    "crimedf.count()"
   ]
  }
 ],
 "metadata": {
  "colab": {
   "provenance": []
  },
  "kernelspec": {
   "display_name": "Python 3",
   "name": "python3"
  },
  "language_info": {
   "name": "python"
  }
 },
 "nbformat": 4,
 "nbformat_minor": 0
}
